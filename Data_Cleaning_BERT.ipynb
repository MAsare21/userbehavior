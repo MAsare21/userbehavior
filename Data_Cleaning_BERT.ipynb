{
 "cells": [
  {
   "cell_type": "code",
   "execution_count": null,
   "id": "546ba3e0-0602-4021-accc-303caf05d11c",
   "metadata": {
    "tags": []
   },
   "outputs": [],
   "source": [
    "#imports packages\n",
    "import json\n",
    "import collections\n",
    "import more_itertools\n",
    "import seaborn\n",
    "import pandas as pd\n",
    "import random\n",
    "import subprocess\n",
    "import pathlib\n",
    "import numpy as np\n",
    "import datetime\n",
    "import tqdm\n",
    "import csv\n",
    "import re\n",
    "import nltk\n",
    "from nltk.corpus import stopwords\n",
    "from nltk.stem import WordNetLemmatizer\n",
    "#nltk.download('stopwords')\n",
    "#nltk.download('wordnet')\n",
    "#nltk.download('omw-1.4')\n",
    "import mmap\n",
    "from tqdm import tqdm\n",
    "import openpyxl\n",
    "import more_itertools"
   ]
  },
  {
   "cell_type": "code",
   "execution_count": null,
   "id": "043119fd-2000-48f6-8fc7-6d25770db951",
   "metadata": {
    "tags": []
   },
   "outputs": [],
   "source": [
    "#data -- import/upload xlsx spreadsheet\n",
    "#data = pd.read_excel('/pscratch/sd/m/masare/sacct/incident_sla_AY23_complete.xlsx') #full data\n",
    "data = pd.read_excel('/pscratch/sd/m/masare/sacct/incident_sla.xlsx') #small size"
   ]
  },
  {
   "cell_type": "code",
   "execution_count": null,
   "id": "0e07f663-ecb2-4499-8c12-da40ae5bc950",
   "metadata": {
    "tags": []
   },
   "outputs": [],
   "source": [
    "data.info()"
   ]
  },
  {
   "cell_type": "code",
   "execution_count": null,
   "id": "a94769f6-d268-48e7-aa9e-7d93073a96d6",
   "metadata": {
    "tags": []
   },
   "outputs": [],
   "source": [
    "data.head(2)"
   ]
  },
  {
   "cell_type": "code",
   "execution_count": null,
   "id": "50fb56a5-f3f5-4945-80ce-c0448d97108b",
   "metadata": {
    "tags": []
   },
   "outputs": [],
   "source": [
    "data.columns"
   ]
  },
  {
   "cell_type": "code",
   "execution_count": null,
   "id": "15dd76ab-64bd-4572-bbf4-4320d75d300b",
   "metadata": {
    "tags": []
   },
   "outputs": [],
   "source": [
    "#Rename Colum 'Number' to 'ID' into the dataframe\n",
    "data = data.rename(columns={\"Number\":\"ID\"})\n",
    "data.columns # RECHECK COLUMNS"
   ]
  },
  {
   "cell_type": "code",
   "execution_count": null,
   "id": "1125d300-a099-45e4-b103-b3aa5647dfc2",
   "metadata": {
    "tags": []
   },
   "outputs": [],
   "source": [
    "type(data)\n",
    "data.dtypes"
   ]
  },
  {
   "cell_type": "code",
   "execution_count": null,
   "id": "bb84e174-11e3-484f-8006-6b4ef2039af4",
   "metadata": {
    "tags": []
   },
   "outputs": [],
   "source": [
    "data['ID']=data['ID'].astype(str) #ensuring ID column is of string type\n",
    "data['ID']=data['ID'].str[3:] #removing first three characters\n",
    "data['ID']=pd.to_numeric(data['ID'],errors='coerce') #converting ID column into numberic\n",
    "data.head()"
   ]
  },
  {
   "cell_type": "code",
   "execution_count": null,
   "id": "5dbea989-68da-4e04-b471-68426d6cf289",
   "metadata": {
    "tags": []
   },
   "outputs": [],
   "source": [
    "#selecting desired columns\n",
    "columns_to_keep = ['ID',\n",
    "                 'Created',  \n",
    "                'Title',\n",
    "                'Additional comments',\n",
    "                'Close notes',\n",
    "                'Comments and Work notes',\n",
    "                'Staff work notes (NERSC private)']\n",
    "data = data.loc[:, columns_to_keep].copy()"
   ]
  },
  {
   "cell_type": "code",
   "execution_count": null,
   "id": "eadffc46-5903-4f26-9f61-dd95131cb11b",
   "metadata": {
    "tags": []
   },
   "outputs": [],
   "source": [
    "#removing spaces from column names\n",
    "data.columns = data.columns.str.replace(' ', '')"
   ]
  },
  {
   "cell_type": "code",
   "execution_count": null,
   "id": "2da43b58-6fc6-4499-9aff-8802c81271ef",
   "metadata": {
    "tags": []
   },
   "outputs": [],
   "source": [
    "data.loc[:, 'Created']= pd.to_datetime(data['Created'], errors = 'coerce')"
   ]
  },
  {
   "cell_type": "code",
   "execution_count": null,
   "id": "b1ac4d2a-4676-46a0-83c9-1f7e69b76103",
   "metadata": {
    "tags": []
   },
   "outputs": [],
   "source": [
    "print(data.dtypes)"
   ]
  },
  {
   "cell_type": "code",
   "execution_count": null,
   "id": "f5b0f9d0-8c18-4b39-8941-576a65ce604e",
   "metadata": {
    "tags": []
   },
   "outputs": [],
   "source": [
    "data.columns"
   ]
  },
  {
   "cell_type": "code",
   "execution_count": null,
   "id": "a2d9d733-1fd3-4aaf-9a7c-bb692350ddc1",
   "metadata": {
    "tags": []
   },
   "outputs": [],
   "source": [
    "#convert columns from object to str. I have to use \".loc\" to avoid the copy warning\n",
    "object_columns =[ 'Title', \n",
    "                 'Additionalcomments', \n",
    "                 'Closenotes',\n",
    "                 'CommentsandWorknotes', \n",
    "                 'Staffworknotes(NERSCprivate)']\n",
    "for col in object_columns:\n",
    "    data.loc[:, col] = data.loc[:, col].astype(str)"
   ]
  },
  {
   "cell_type": "code",
   "execution_count": null,
   "id": "09b51e21-dc2e-4c65-a3f5-4842842252d2",
   "metadata": {
    "tags": []
   },
   "outputs": [],
   "source": [
    "data.head(2)"
   ]
  },
  {
   "cell_type": "code",
   "execution_count": null,
   "id": "cbfb189e-4d15-4f00-90d3-3490702759e2",
   "metadata": {
    "tags": []
   },
   "outputs": [],
   "source": [
    "data['Additionalcomments'][0]"
   ]
  },
  {
   "cell_type": "code",
   "execution_count": null,
   "id": "8eca8fe4-a9eb-47bf-bab3-18e22e79f502",
   "metadata": {
    "tags": []
   },
   "outputs": [],
   "source": [
    "#clean \n",
    "   #isolate import columns, drop unimportant columns\n",
    "   #remove time stamps (can look at my code and use that) \n",
    "\n",
    "\n",
    "text_cols = [ 'Created', \n",
    "             'Title',\n",
    "            'Additionalcomments',\n",
    "             'Closenotes',\n",
    "            'CommentsandWorknotes',\n",
    "           'Staffworknotes(NERSCprivate)'\n",
    "            ]\n",
    "\n",
    "data = data[['ID'] + text_cols].copy()\n",
    "data.fillna('', inplace=True)\n",
    "data = data.astype(str)\n",
    "\n",
    "## EP -- Let's use this cell to name the columns we want our data frame. This is a little different than what I did in\n",
    "# 'ticket_text_mine.py`"
   ]
  },
  {
   "cell_type": "code",
   "execution_count": null,
   "id": "ef3de449-277a-496e-92ba-b41aceb8cb6e",
   "metadata": {
    "tags": []
   },
   "outputs": [],
   "source": [
    "data['Additionalcomments'][0]"
   ]
  },
  {
   "cell_type": "code",
   "execution_count": null,
   "id": "b4713acf-8b34-4383-b48a-ad78ca5a74b8",
   "metadata": {
    "tags": []
   },
   "outputs": [],
   "source": [
    "data.head(2)"
   ]
  },
  {
   "cell_type": "code",
   "execution_count": null,
   "id": "ada593b2-c4db-4781-9f78-2ab06d0bdc27",
   "metadata": {
    "tags": []
   },
   "outputs": [],
   "source": [
    "data[text_cols[5]]"
   ]
  },
  {
   "cell_type": "code",
   "execution_count": null,
   "id": "c7dcf49b-2ad0-46ea-9745-f235f4a5dae0",
   "metadata": {
    "tags": []
   },
   "outputs": [],
   "source": [
    "def process_comment_text(text):\n",
    "    \n",
    "    # Removed System Messages\n",
    "    text = re.sub(r'No user response \\d{4}-\\d{2}-\\d{2}\\s\\d{2}:\\d{2}:\\d{2}\\s- System \\(Additional comments\\)','',text)\n",
    "    text = re.sub(r'\\d{4}-\\d{2}-\\d{2}\\s\\d{2}:\\d{2}:\\d{2}\\s-.*?\\(Additional\\scomments\\)','',text)\n",
    "    text = re.sub(r'\\d{4}-\\d{2}-\\d{2}\\s\\d{2}:\\d{2}:\\d{2}\\s-.{1,60}?\\(Staff work notes \\(NERSC private\\)\\)','',text)\n",
    "    \n",
    "    text = re.sub(r'On\\s\\w{3},\\s\\w{3}\\s\\d+,\\s\\d{4}\\sat\\s\\d+:\\d{2}\\s\\w{2}','',text)\n",
    "    text = re.sub(r'Incident automatically closed after \\d+? days in the Resolved state.','',text)\n",
    "    text = re.sub(r'Incident automatically resolved after \\d+? days in waiting for user reply','',text)\n",
    "                    #Incident automatically resolved after 14 days in waiting for user reply.\n",
    "    \n",
    "    # Remove HTML links\n",
    "    text = re.sub(r'https?:\\/\\/(www\\.)?[-a-zA-Z0-9@:%._\\+~#=]{1,256}\\.[a-zA-Z0-9()]{1,6}\\b([-a-zA-Z0-9()@:%_\\+.~#?&//=]*)', '', text)\n",
    "    \n",
    "    #remove phonenumber\n",
    "    text = re.sub(r'(\\+?\\d{1,2}[-.\\s]?)?(\\(?\\d{3}\\)?[-.\\s]?)?\\d{3}[-.\\s]?\\d{4}', '', text)\n",
    "    \n",
    "    #remove emails\n",
    "    text = re.sub(r'[\\w]+@[\\w]+.\\w{3}','',text)\n",
    "    \n",
    "    # Convert text to lowercase\n",
    "    text = text.lower()\n",
    "    \n",
    "    # Remove specific words like 'hi', 'hello'\n",
    "    unwanted_words = ['hi', 'hello','email','organization','laboratory','bye','mr','thanks','day']\n",
    "    pattern = r'\\b(?:{})\\b'.format('|'.join(unwanted_words))\n",
    "    text = re.sub(pattern, '', text)\n",
    "    \n",
    "\n",
    "    return text"
   ]
  },
  {
   "cell_type": "code",
   "execution_count": null,
   "id": "75039b93-7257-4475-8e7c-e762384abb41",
   "metadata": {
    "tags": []
   },
   "outputs": [],
   "source": [
    "%%time\n",
    "for col in text_cols: \n",
    "    if col not in data.columns: \n",
    "        raise ValueError(f\"Column '{col}' not found in DataFrame\") \n",
    "\n",
    "\n",
    "data[text_cols] = data[text_cols].fillna('').astype(str)\n",
    "# Concatenate the text columns\n",
    "print(data.head())\n",
    "data['text_data'] = data[text_cols].apply(lambda row: ' '.join(row.values.astype(str)), axis=1)\n",
    "print(data.head())\n",
    "# Apply the cleaning function\n",
    "data_before = pd.DataFrame()\n",
    "data_before['text_data'] = data['text_data']\n",
    "data['text_data'] = data['text_data'].apply(process_comment_text)"
   ]
  },
  {
   "cell_type": "code",
   "execution_count": null,
   "id": "519c3f41-6de5-4dbb-bfc3-59fc8a6c37eb",
   "metadata": {
    "tags": []
   },
   "outputs": [],
   "source": [
    "data_cleaned = data[['ID','Created','text_data']] "
   ]
  },
  {
   "cell_type": "code",
   "execution_count": null,
   "id": "0bf27aa2-93a5-4556-8280-cb76c9a0c08b",
   "metadata": {
    "tags": []
   },
   "outputs": [],
   "source": [
    "data_before['text_data'].iloc[0]"
   ]
  },
  {
   "cell_type": "code",
   "execution_count": null,
   "id": "85f1edf2-ae5c-404e-a0d3-e233c0c23f3b",
   "metadata": {
    "tags": []
   },
   "outputs": [],
   "source": [
    "process_comment_text(data_before['text_data'].iloc[0])"
   ]
  },
  {
   "cell_type": "code",
   "execution_count": null,
   "id": "ccffc06a-4de5-4b05-ae73-4d45591e5f5d",
   "metadata": {
    "tags": []
   },
   "outputs": [],
   "source": [
    "data_cleaned['text_data'].iloc[0]"
   ]
  },
  {
   "cell_type": "code",
   "execution_count": null,
   "id": "5f1f2999-0960-424f-a8b2-4f3b6bc4b6bc",
   "metadata": {},
   "outputs": [],
   "source": [
    "data_cleaned.to_csv('/global/u2/m/masare/ticket-text-analysis/bert_ticket_cleaned.csv', index=False)\n",
    "#data_df = pd.read_csv('/global/u2/m/masare/ticket-text-analysis/Ticket.csv')"
   ]
  },
  {
   "cell_type": "code",
   "execution_count": null,
   "id": "466810c2-5458-44f5-ba87-b721faed59dc",
   "metadata": {
    "tags": []
   },
   "outputs": [],
   "source": [
    "#import pandas as pd\n",
    "#import spacy\n",
    "#nlp = spacy.load(\"en_core_web_lg\")\n",
    "#def remove_person_names(text):\n",
    "  #doc = nlp(text)\n",
    " #new_text = []\n",
    " # for token in doc:\n",
    "  #  if token.ent_type_ != \"PERSON\":\n",
    "  #    new_text.append(token.text)\n",
    "   # else:\n",
    "  #    new_text.append(\" \")\n",
    " # return \" \".join(new_text)\n",
    "\n"
   ]
  },
  {
   "cell_type": "code",
   "execution_count": null,
   "id": "9fe7d289-9505-4546-885f-2c80507b81c4",
   "metadata": {
    "tags": []
   },
   "outputs": [],
   "source": [
    "# Apply the function to the relevant columns\n",
    "#for column in ['Additionalcomments', 'Closenotes', 'CommentsandWorknotes', 'Staffworknotes(NERSCprivate)']:\n",
    " # data[column] = data[column].apply(remove_person_names)\n",
    "\n",
    "#print(data)"
   ]
  },
  {
   "cell_type": "code",
   "execution_count": null,
   "id": "f6e4aac7-139e-4a40-904b-c166a80d649c",
   "metadata": {},
   "outputs": [],
   "source": [
    "\n",
    "  \n",
    "    # Removing timestamps\n",
    "    #text = re.sub(r'\\b\\w{3}\\s+\\w{3}\\s+\\d{1,2}\\s+\\d{4}\\s+\\d{1,2}:\\d{2}\\s+\\w{2}\\b', '', text)\n",
    "    #text = re.sub(r'\\b\\w{3}\\s+\\w{3}\\s+\\d{1,2}\\s+\\d{4}\\s+\\d{1,2}\\d{2}\\s+\\w{2}\\b', '', text, flags=re.IGNORECASE)\n",
    "    #text = re.sub(r'\\b(?:mon|tue|wed|thu|fri|sat|sun)\\s+(?:jan|feb|mar|apr|may|jun|jul|aug|sep|oct|nov|dec)\\s+\\d{1,2}\\s+\\d{4}\\s+\\d{1,2}[:]\\d{2}\\s+\\w{2}\\b', '', text, flags=re.IGNORECASE)\n",
    "    #text = re.sub(r'\\b\\w{3}\\s+\\w{3}\\s+\\d{1,2}\\s+\\d{4}\\s+\\d{1,2}\\d{2}\\s+\\w{2}\\b', '', text) \n",
    "    #text = re.sub(r'\\b\\(?:sat|sun|mon|tue|wed|thu|fri)\\.?(?:\\w*day)?\\s?\\b', '',text)\n",
    "    #mon[a-z\\.]*\\s+|tue[a-z\\.]*\\s+|wed[a-z\\.]*\\s+|thu[a-z\\.]*\\s+|fri[a-z\\.]*\\s+|sat[a-z\\.]*\\s+|sun[a-z\\.]*\\s+\n",
    "\n",
    "    \n",
    "    # Removing bracketed content\n",
    "    #text = re.sub(r'\\[.*?\\]', '', text)\n",
    "    #text = re.sub(r'\\(.*?\\)', '', text)\n",
    "    # Removing extra whitespace\n",
    "    #text = ' '.join(text.split())\n",
    "\n",
    "    #Removing names\n",
    "    #text = re.sub(r'\\b[a-zA-Z][a-z]*\\b(?:\\s+[a-zA-Z][a-z]*)*', '', text) \n",
    "    #text = re.sub(r'\\b[a-zA-Z-]+$\\b','', text)\n",
    "    #phone numbers\n",
    "    #text = re.sub(r'\\d\\d\\d-\\d\\d\\d-\\d\\d\\d\\d','', text)\n",
    "  \n",
    "    ##text = re.sub(r'\\d{4}-\\d{2}-\\d{2} \\d{2}:\\d{2}:\\d{2} - \\w+ \\w+ \\(Additional comments\\)', '', text)\n",
    "    ##text = re.sub(r'\\d{4}-\\d{2}-\\d{2} \\d{2}:\\d{2}:\\d{2} - \\w+-\\w+ \\w+ \\(Additional comments\\)', '', text)\n",
    "    ##text = re.sub(r'\\d{4}-\\d{2}-\\d{2} \\d{2}:\\d{2}:\\d{2} - Guest \\(Additional comments\\)', '', text)\n",
    "    ##text  = re.sub(r'\\d{4}-\\d{2}-\\d{2} \\d{2}:\\d{2}:\\d{2} - System \\(Additional comments\\)', '', text)\n",
    "    ##text = re.sub(r'\\d{4}-\\d{2}-\\d{2} \\d{2}:\\d{2}:\\d{2} - \\w+ \\w+ \\(Additional comments\\)', '', text)\n",
    "    \n",
    "      #text = re.sub(r'\\w+, w+ \\d+, d{4} at \\d{2}:\\d{2} \\w{2} \\d{4}-\\d{2}-\\d{2} \\d{2}:\\d{2}:\\d{2} - \\w+ \\w+ \\(Staff work notes \\(NERSC private\\)\\)','',text)\n",
    "\n",
    "    ##text = re.sub(r'\\d{4}-\\d{2}-\\d{2} \\d{2}:\\d{2}:\\d{2} - \\w+ \\w+ \\(Staff work notes \\(NERSC private\\)\\)', '', text)\n",
    "    ##text = re.sub(r'\\d{4}-\\d{2}-\\d{2} \\d{2}:\\d{2}:\\d{2} - Guest \\(Staff work notes \\(NERSC private\\)\\)', '', text)\n",
    "    #text = re.sub(r'On \\w+, w+ \\d+, d{4} at \\d{2}:\\d{2} \\w{2} \\d{4}-\\d{2}-\\d{2} \\d{2}:\\d{2}:\\d{2} - \\w+ \\w+ \\(Staff work notes \\(NERSC private\\)\\)'\n",
    "            \n",
    "    \n",
    "    #text = re.sub(r'@\\w+ \\w+', '', text)\n",
    "    #text = re.sub(r'\\d{4}-\\d{2}-\\d{2}', '', text)\n",
    "    # text_data = re.sub(r'\\d{2}:\\d{2}:\\d{2}', '', text) #remove system times\n",
    "    # text_data = re.sub(r'\\(Additional comments\\)', '', text)\n",
    "    # text_data = re.sub(r'\\(Staff work notes \\(NERSC private\\)\\)', '', text)\n",
    "   \n",
    "    \n",
    "  \n",
    "    # Remove punctuations\n",
    "    # text = re.sub(r'\\.','', text)\n",
    "    #text = re.sub(r',','', text)\n",
    "    #text = re.sub(r':','', text)\n",
    "    #text = re.sub(r'\\?','', text)\n",
    "    \n",
    "   \n",
    "  \n",
    "        \n",
    "    # removing quotes can be problematic\n",
    "    # text = re.sub(r'\\\"','', text)\n",
    "    # text = re.sub(r'\\'','', text)\n",
    "    #text = text.split()\n",
    "    \n",
    "    #wl = WordNetLemmatizer()\n",
    "    #text = [wl.lemmatize(word) for word in text if not word in set(stopwords.words('english'))]\n",
    "    #text = ' '.join(text)"
   ]
  },
  {
   "cell_type": "code",
   "execution_count": null,
   "id": "2e1777fd-fe66-479f-a02f-0c6dee839c84",
   "metadata": {
    "tags": []
   },
   "outputs": [],
   "source": [
    "#text = \"2023-01-30 02:00:04 - System (Additional comments) \\\n",
    "#Incident automatically closed after 7 days in the Resolved state. \\\n",
    "#2023-01-19 07:58:19 - Yuen-Dat Chan (Additional comments) \\\n",
    "#reply from: ydchan@lbl.gov \\\n",
    "#Thank you very much! \\\n",
    "#On Wed, Jan 18, 2023 at 8:12 PM \\\n",
    "#2023-01-18 20:11:28 - Shane Canon (Additional comments) \\\n",
    "#This should be in place now. \\\n",
    "#2023-01-18 13:30:20 - Lisa Gerhardt (Additional comments) \\\n",
    "#Hi Yuen-Dat, \\\n",
    "#I've put in the request to add user chy to the majorana \\\n",
    "#ssh access. You should hear back soon. \\\n",
    "#\\\n",
    "#Bye, \\\n",
    "#Lisa\"\n"
   ]
  }
 ],
 "metadata": {
  "kernelspec": {
   "display_name": "sacct",
   "language": "python",
   "name": "sacct"
  },
  "language_info": {
   "codemirror_mode": {
    "name": "ipython",
    "version": 3
   },
   "file_extension": ".py",
   "mimetype": "text/x-python",
   "name": "python",
   "nbconvert_exporter": "python",
   "pygments_lexer": "ipython3",
   "version": "3.11.7"
  }
 },
 "nbformat": 4,
 "nbformat_minor": 5
}
