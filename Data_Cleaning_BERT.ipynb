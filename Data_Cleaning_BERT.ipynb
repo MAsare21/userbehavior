{
 "cells": [
  {
   "cell_type": "code",
   "execution_count": 1,
   "id": "546ba3e0-0602-4021-accc-303caf05d11c",
   "metadata": {
    "tags": []
   },
   "outputs": [],
   "source": [
    "#imports packages\n",
    "import json\n",
    "import collections\n",
    "import more_itertools\n",
    "import seaborn\n",
    "import pandas as pd\n",
    "import random\n",
    "import subprocess\n",
    "import pathlib\n",
    "import numpy as np\n",
    "import datetime\n",
    "import tqdm\n",
    "import csv\n",
    "import re\n",
    "import nltk\n",
    "from nltk.corpus import stopwords\n",
    "from nltk.stem import WordNetLemmatizer\n",
    "#nltk.download('stopwords')\n",
    "#nltk.download('wordnet')\n",
    "#nltk.download('omw-1.4')\n",
    "import mmap\n",
    "from tqdm import tqdm\n",
    "import openpyxl\n",
    "import more_itertools"
   ]
  },
  {
   "cell_type": "code",
   "execution_count": 2,
   "id": "043119fd-2000-48f6-8fc7-6d25770db951",
   "metadata": {
    "tags": []
   },
   "outputs": [],
   "source": [
    "#data -- import/upload xlsx spreadsheet\n",
    "#data = pd.read_excel('/pscratch/sd/m/masare/sacct/incident_sla_AY23_complete.xlsx') #full data\n",
    "data = pd.read_excel('/pscratch/sd/m/masare/sacct/incident_sla.xlsx') #small size"
   ]
  },
  {
   "cell_type": "code",
   "execution_count": 3,
   "id": "0e07f663-ecb2-4499-8c12-da40ae5bc950",
   "metadata": {
    "tags": []
   },
   "outputs": [
    {
     "name": "stdout",
     "output_type": "stream",
     "text": [
      "<class 'pandas.core.frame.DataFrame'>\n",
      "RangeIndex: 2816 entries, 0 to 2815\n",
      "Data columns (total 24 columns):\n",
      " #   Column                            Non-Null Count  Dtype         \n",
      "---  ------                            --------------  -----         \n",
      " 0   Number                            2816 non-null   object        \n",
      " 1   Resource                          2139 non-null   object        \n",
      " 2   Created                           2816 non-null   datetime64[ns]\n",
      " 3   User ID                           2651 non-null   object        \n",
      " 4   Assigned group                    2816 non-null   object        \n",
      " 5   User ID.1                         2816 non-null   object        \n",
      " 6   Staff Owner                       2699 non-null   object        \n",
      " 7   User ID.2                         2699 non-null   object        \n",
      " 8   Business elapsed time             2816 non-null   int64         \n",
      " 9   Actual elapsed percentage         2816 non-null   float64       \n",
      " 10  Title                             2816 non-null   object        \n",
      " 11  User Category                     2805 non-null   object        \n",
      " 12  Category                          2815 non-null   object        \n",
      " 13  Closure category                  0 non-null      float64       \n",
      " 14  Has breached                      2816 non-null   bool          \n",
      " 15  Channel                           2816 non-null   object        \n",
      " 16  Additional comments               2816 non-null   object        \n",
      " 17  Close code                        2747 non-null   object        \n",
      " 18  Close notes                       2746 non-null   object        \n",
      " 19  Comments and Work notes           2816 non-null   object        \n",
      " 20  Description                       30 non-null     object        \n",
      " 21  Staff work notes (NERSC private)  807 non-null    object        \n",
      " 22  ACS                               0 non-null      float64       \n",
      " 23  Share with NERSC Projects         913 non-null    object        \n",
      "dtypes: bool(1), datetime64[ns](1), float64(3), int64(1), object(18)\n",
      "memory usage: 508.9+ KB\n"
     ]
    }
   ],
   "source": [
    "data.info()"
   ]
  },
  {
   "cell_type": "code",
   "execution_count": 4,
   "id": "a94769f6-d268-48e7-aa9e-7d93073a96d6",
   "metadata": {
    "tags": []
   },
   "outputs": [
    {
     "data": {
      "text/html": [
       "<div>\n",
       "<style scoped>\n",
       "    .dataframe tbody tr th:only-of-type {\n",
       "        vertical-align: middle;\n",
       "    }\n",
       "\n",
       "    .dataframe tbody tr th {\n",
       "        vertical-align: top;\n",
       "    }\n",
       "\n",
       "    .dataframe thead th {\n",
       "        text-align: right;\n",
       "    }\n",
       "</style>\n",
       "<table border=\"1\" class=\"dataframe\">\n",
       "  <thead>\n",
       "    <tr style=\"text-align: right;\">\n",
       "      <th></th>\n",
       "      <th>Number</th>\n",
       "      <th>Resource</th>\n",
       "      <th>Created</th>\n",
       "      <th>User ID</th>\n",
       "      <th>Assigned group</th>\n",
       "      <th>User ID.1</th>\n",
       "      <th>Staff Owner</th>\n",
       "      <th>User ID.2</th>\n",
       "      <th>Business elapsed time</th>\n",
       "      <th>Actual elapsed percentage</th>\n",
       "      <th>...</th>\n",
       "      <th>Has breached</th>\n",
       "      <th>Channel</th>\n",
       "      <th>Additional comments</th>\n",
       "      <th>Close code</th>\n",
       "      <th>Close notes</th>\n",
       "      <th>Comments and Work notes</th>\n",
       "      <th>Description</th>\n",
       "      <th>Staff work notes (NERSC private)</th>\n",
       "      <th>ACS</th>\n",
       "      <th>Share with NERSC Projects</th>\n",
       "    </tr>\n",
       "  </thead>\n",
       "  <tbody>\n",
       "    <tr>\n",
       "      <th>0</th>\n",
       "      <td>INC0197059</td>\n",
       "      <td>Cori</td>\n",
       "      <td>2023-01-18 04:39:28</td>\n",
       "      <td>lgerhard</td>\n",
       "      <td>DAS</td>\n",
       "      <td>stotor</td>\n",
       "      <td>Gerhardt, Lisa (lgerhard)</td>\n",
       "      <td>lgerhard</td>\n",
       "      <td>274920</td>\n",
       "      <td>239.75</td>\n",
       "      <td>...</td>\n",
       "      <td>True</td>\n",
       "      <td>User Web Interface</td>\n",
       "      <td>2023-02-21 02:00:05 - System (Additional comme...</td>\n",
       "      <td>Not Solved (No User Response)</td>\n",
       "      <td>No user response</td>\n",
       "      <td>2023-02-21 02:00:05 - System (Additional comme...</td>\n",
       "      <td>NaN</td>\n",
       "      <td>2023-01-30 10:46:55 - Kirill Lozinskiy (Staff ...</td>\n",
       "      <td>NaN</td>\n",
       "      <td>NaN</td>\n",
       "    </tr>\n",
       "    <tr>\n",
       "      <th>1</th>\n",
       "      <td>INC0197077</td>\n",
       "      <td>Iris</td>\n",
       "      <td>2023-01-18 07:34:40</td>\n",
       "      <td>bagwell</td>\n",
       "      <td>Account Support</td>\n",
       "      <td>pederson</td>\n",
       "      <td>Bagwell, Clayton (bagwell)</td>\n",
       "      <td>bagwell</td>\n",
       "      <td>7675</td>\n",
       "      <td>2.12</td>\n",
       "      <td>...</td>\n",
       "      <td>False</td>\n",
       "      <td>Email</td>\n",
       "      <td>2023-02-09 02:00:05 - System (Additional comme...</td>\n",
       "      <td>Not Solved (No User Response)</td>\n",
       "      <td>No user response</td>\n",
       "      <td>2023-02-09 02:00:05 - System (Additional comme...</td>\n",
       "      <td>NaN</td>\n",
       "      <td>NaN</td>\n",
       "      <td>NaN</td>\n",
       "      <td>NaN</td>\n",
       "    </tr>\n",
       "  </tbody>\n",
       "</table>\n",
       "<p>2 rows × 24 columns</p>\n",
       "</div>"
      ],
      "text/plain": [
       "       Number Resource             Created   User ID   Assigned group  \\\n",
       "0  INC0197059     Cori 2023-01-18 04:39:28  lgerhard              DAS   \n",
       "1  INC0197077     Iris 2023-01-18 07:34:40   bagwell  Account Support   \n",
       "\n",
       "  User ID.1                 Staff Owner User ID.2  Business elapsed time  \\\n",
       "0    stotor   Gerhardt, Lisa (lgerhard)  lgerhard                 274920   \n",
       "1  pederson  Bagwell, Clayton (bagwell)   bagwell                   7675   \n",
       "\n",
       "   Actual elapsed percentage  ... Has breached             Channel  \\\n",
       "0                     239.75  ...         True  User Web Interface   \n",
       "1                       2.12  ...        False               Email   \n",
       "\n",
       "                                 Additional comments  \\\n",
       "0  2023-02-21 02:00:05 - System (Additional comme...   \n",
       "1  2023-02-09 02:00:05 - System (Additional comme...   \n",
       "\n",
       "                      Close code       Close notes  \\\n",
       "0  Not Solved (No User Response)  No user response   \n",
       "1  Not Solved (No User Response)  No user response   \n",
       "\n",
       "                             Comments and Work notes Description  \\\n",
       "0  2023-02-21 02:00:05 - System (Additional comme...         NaN   \n",
       "1  2023-02-09 02:00:05 - System (Additional comme...         NaN   \n",
       "\n",
       "                    Staff work notes (NERSC private) ACS  \\\n",
       "0  2023-01-30 10:46:55 - Kirill Lozinskiy (Staff ... NaN   \n",
       "1                                                NaN NaN   \n",
       "\n",
       "  Share with NERSC Projects  \n",
       "0                       NaN  \n",
       "1                       NaN  \n",
       "\n",
       "[2 rows x 24 columns]"
      ]
     },
     "execution_count": 4,
     "metadata": {},
     "output_type": "execute_result"
    }
   ],
   "source": [
    "data.head(2)"
   ]
  },
  {
   "cell_type": "code",
   "execution_count": 5,
   "id": "50fb56a5-f3f5-4945-80ce-c0448d97108b",
   "metadata": {
    "tags": []
   },
   "outputs": [
    {
     "data": {
      "text/plain": [
       "Index(['Number', 'Resource', 'Created', 'User ID', 'Assigned group',\n",
       "       'User ID.1', 'Staff Owner', 'User ID.2', 'Business elapsed time',\n",
       "       'Actual elapsed percentage', 'Title', 'User Category', 'Category',\n",
       "       'Closure category', 'Has breached', 'Channel', 'Additional comments',\n",
       "       'Close code', 'Close notes', 'Comments and Work notes', 'Description',\n",
       "       'Staff work notes (NERSC private)', 'ACS', 'Share with NERSC Projects'],\n",
       "      dtype='object')"
      ]
     },
     "execution_count": 5,
     "metadata": {},
     "output_type": "execute_result"
    }
   ],
   "source": [
    "data.columns"
   ]
  },
  {
   "cell_type": "code",
   "execution_count": 6,
   "id": "15dd76ab-64bd-4572-bbf4-4320d75d300b",
   "metadata": {
    "tags": []
   },
   "outputs": [
    {
     "data": {
      "text/plain": [
       "Index(['ID', 'Resource', 'Created', 'User ID', 'Assigned group', 'User ID.1',\n",
       "       'Staff Owner', 'User ID.2', 'Business elapsed time',\n",
       "       'Actual elapsed percentage', 'Title', 'User Category', 'Category',\n",
       "       'Closure category', 'Has breached', 'Channel', 'Additional comments',\n",
       "       'Close code', 'Close notes', 'Comments and Work notes', 'Description',\n",
       "       'Staff work notes (NERSC private)', 'ACS', 'Share with NERSC Projects'],\n",
       "      dtype='object')"
      ]
     },
     "execution_count": 6,
     "metadata": {},
     "output_type": "execute_result"
    }
   ],
   "source": [
    "#Rename Colum 'Number' to 'ID' into the dataframe\n",
    "data = data.rename(columns={\"Number\":\"ID\"})\n",
    "data.columns # RECHECK COLUMNS"
   ]
  },
  {
   "cell_type": "code",
   "execution_count": 7,
   "id": "1125d300-a099-45e4-b103-b3aa5647dfc2",
   "metadata": {
    "tags": []
   },
   "outputs": [
    {
     "data": {
      "text/plain": [
       "ID                                          object\n",
       "Resource                                    object\n",
       "Created                             datetime64[ns]\n",
       "User ID                                     object\n",
       "Assigned group                              object\n",
       "User ID.1                                   object\n",
       "Staff Owner                                 object\n",
       "User ID.2                                   object\n",
       "Business elapsed time                        int64\n",
       "Actual elapsed percentage                  float64\n",
       "Title                                       object\n",
       "User Category                               object\n",
       "Category                                    object\n",
       "Closure category                           float64\n",
       "Has breached                                  bool\n",
       "Channel                                     object\n",
       "Additional comments                         object\n",
       "Close code                                  object\n",
       "Close notes                                 object\n",
       "Comments and Work notes                     object\n",
       "Description                                 object\n",
       "Staff work notes (NERSC private)            object\n",
       "ACS                                        float64\n",
       "Share with NERSC Projects                   object\n",
       "dtype: object"
      ]
     },
     "execution_count": 7,
     "metadata": {},
     "output_type": "execute_result"
    }
   ],
   "source": [
    "type(data)\n",
    "data.dtypes"
   ]
  },
  {
   "cell_type": "code",
   "execution_count": 8,
   "id": "bb84e174-11e3-484f-8006-6b4ef2039af4",
   "metadata": {
    "tags": []
   },
   "outputs": [
    {
     "data": {
      "text/html": [
       "<div>\n",
       "<style scoped>\n",
       "    .dataframe tbody tr th:only-of-type {\n",
       "        vertical-align: middle;\n",
       "    }\n",
       "\n",
       "    .dataframe tbody tr th {\n",
       "        vertical-align: top;\n",
       "    }\n",
       "\n",
       "    .dataframe thead th {\n",
       "        text-align: right;\n",
       "    }\n",
       "</style>\n",
       "<table border=\"1\" class=\"dataframe\">\n",
       "  <thead>\n",
       "    <tr style=\"text-align: right;\">\n",
       "      <th></th>\n",
       "      <th>ID</th>\n",
       "      <th>Resource</th>\n",
       "      <th>Created</th>\n",
       "      <th>User ID</th>\n",
       "      <th>Assigned group</th>\n",
       "      <th>User ID.1</th>\n",
       "      <th>Staff Owner</th>\n",
       "      <th>User ID.2</th>\n",
       "      <th>Business elapsed time</th>\n",
       "      <th>Actual elapsed percentage</th>\n",
       "      <th>...</th>\n",
       "      <th>Has breached</th>\n",
       "      <th>Channel</th>\n",
       "      <th>Additional comments</th>\n",
       "      <th>Close code</th>\n",
       "      <th>Close notes</th>\n",
       "      <th>Comments and Work notes</th>\n",
       "      <th>Description</th>\n",
       "      <th>Staff work notes (NERSC private)</th>\n",
       "      <th>ACS</th>\n",
       "      <th>Share with NERSC Projects</th>\n",
       "    </tr>\n",
       "  </thead>\n",
       "  <tbody>\n",
       "    <tr>\n",
       "      <th>0</th>\n",
       "      <td>197059</td>\n",
       "      <td>Cori</td>\n",
       "      <td>2023-01-18 04:39:28</td>\n",
       "      <td>lgerhard</td>\n",
       "      <td>DAS</td>\n",
       "      <td>stotor</td>\n",
       "      <td>Gerhardt, Lisa (lgerhard)</td>\n",
       "      <td>lgerhard</td>\n",
       "      <td>274920</td>\n",
       "      <td>239.75</td>\n",
       "      <td>...</td>\n",
       "      <td>True</td>\n",
       "      <td>User Web Interface</td>\n",
       "      <td>2023-02-21 02:00:05 - System (Additional comme...</td>\n",
       "      <td>Not Solved (No User Response)</td>\n",
       "      <td>No user response</td>\n",
       "      <td>2023-02-21 02:00:05 - System (Additional comme...</td>\n",
       "      <td>NaN</td>\n",
       "      <td>2023-01-30 10:46:55 - Kirill Lozinskiy (Staff ...</td>\n",
       "      <td>NaN</td>\n",
       "      <td>NaN</td>\n",
       "    </tr>\n",
       "    <tr>\n",
       "      <th>1</th>\n",
       "      <td>197077</td>\n",
       "      <td>Iris</td>\n",
       "      <td>2023-01-18 07:34:40</td>\n",
       "      <td>bagwell</td>\n",
       "      <td>Account Support</td>\n",
       "      <td>pederson</td>\n",
       "      <td>Bagwell, Clayton (bagwell)</td>\n",
       "      <td>bagwell</td>\n",
       "      <td>7675</td>\n",
       "      <td>2.12</td>\n",
       "      <td>...</td>\n",
       "      <td>False</td>\n",
       "      <td>Email</td>\n",
       "      <td>2023-02-09 02:00:05 - System (Additional comme...</td>\n",
       "      <td>Not Solved (No User Response)</td>\n",
       "      <td>No user response</td>\n",
       "      <td>2023-02-09 02:00:05 - System (Additional comme...</td>\n",
       "      <td>NaN</td>\n",
       "      <td>NaN</td>\n",
       "      <td>NaN</td>\n",
       "      <td>NaN</td>\n",
       "    </tr>\n",
       "    <tr>\n",
       "      <th>2</th>\n",
       "      <td>197078</td>\n",
       "      <td>Iris</td>\n",
       "      <td>2023-01-18 07:34:43</td>\n",
       "      <td>bagwell</td>\n",
       "      <td>Account Support</td>\n",
       "      <td>akara</td>\n",
       "      <td>Bagwell, Clayton (bagwell)</td>\n",
       "      <td>bagwell</td>\n",
       "      <td>6720</td>\n",
       "      <td>1.90</td>\n",
       "      <td>...</td>\n",
       "      <td>False</td>\n",
       "      <td>Email</td>\n",
       "      <td>2023-02-09 02:00:06 - System (Additional comme...</td>\n",
       "      <td>Not Solved (No User Response)</td>\n",
       "      <td>No user response</td>\n",
       "      <td>2023-02-09 02:00:06 - System (Additional comme...</td>\n",
       "      <td>NaN</td>\n",
       "      <td>NaN</td>\n",
       "      <td>NaN</td>\n",
       "      <td>NaN</td>\n",
       "    </tr>\n",
       "    <tr>\n",
       "      <th>3</th>\n",
       "      <td>197079</td>\n",
       "      <td>Iris</td>\n",
       "      <td>2023-01-18 07:34:45</td>\n",
       "      <td>mdscogg</td>\n",
       "      <td>Account Support</td>\n",
       "      <td>fpaesani</td>\n",
       "      <td>Scoggins, Michelle (mdscogg)</td>\n",
       "      <td>mdscogg</td>\n",
       "      <td>2563</td>\n",
       "      <td>0.94</td>\n",
       "      <td>...</td>\n",
       "      <td>False</td>\n",
       "      <td>Email</td>\n",
       "      <td>2023-02-09 02:00:06 - System (Additional comme...</td>\n",
       "      <td>Not Solved (No User Response)</td>\n",
       "      <td>No user response</td>\n",
       "      <td>2023-02-09 02:00:06 - System (Additional comme...</td>\n",
       "      <td>NaN</td>\n",
       "      <td>NaN</td>\n",
       "      <td>NaN</td>\n",
       "      <td>NaN</td>\n",
       "    </tr>\n",
       "    <tr>\n",
       "      <th>4</th>\n",
       "      <td>197080</td>\n",
       "      <td>Iris</td>\n",
       "      <td>2023-01-18 07:38:44</td>\n",
       "      <td>bagwell</td>\n",
       "      <td>Account Support</td>\n",
       "      <td>ching</td>\n",
       "      <td>Bagwell, Clayton (bagwell)</td>\n",
       "      <td>bagwell</td>\n",
       "      <td>9955</td>\n",
       "      <td>2.59</td>\n",
       "      <td>...</td>\n",
       "      <td>False</td>\n",
       "      <td>Email</td>\n",
       "      <td>2023-02-09 02:00:06 - System (Additional comme...</td>\n",
       "      <td>Not Solved (No User Response)</td>\n",
       "      <td>No user response</td>\n",
       "      <td>2023-02-09 02:00:06 - System (Additional comme...</td>\n",
       "      <td>NaN</td>\n",
       "      <td>NaN</td>\n",
       "      <td>NaN</td>\n",
       "      <td>NaN</td>\n",
       "    </tr>\n",
       "  </tbody>\n",
       "</table>\n",
       "<p>5 rows × 24 columns</p>\n",
       "</div>"
      ],
      "text/plain": [
       "       ID Resource             Created   User ID   Assigned group User ID.1  \\\n",
       "0  197059     Cori 2023-01-18 04:39:28  lgerhard              DAS    stotor   \n",
       "1  197077     Iris 2023-01-18 07:34:40   bagwell  Account Support  pederson   \n",
       "2  197078     Iris 2023-01-18 07:34:43   bagwell  Account Support     akara   \n",
       "3  197079     Iris 2023-01-18 07:34:45   mdscogg  Account Support  fpaesani   \n",
       "4  197080     Iris 2023-01-18 07:38:44   bagwell  Account Support     ching   \n",
       "\n",
       "                    Staff Owner User ID.2  Business elapsed time  \\\n",
       "0     Gerhardt, Lisa (lgerhard)  lgerhard                 274920   \n",
       "1    Bagwell, Clayton (bagwell)   bagwell                   7675   \n",
       "2    Bagwell, Clayton (bagwell)   bagwell                   6720   \n",
       "3  Scoggins, Michelle (mdscogg)   mdscogg                   2563   \n",
       "4    Bagwell, Clayton (bagwell)   bagwell                   9955   \n",
       "\n",
       "   Actual elapsed percentage  ... Has breached             Channel  \\\n",
       "0                     239.75  ...         True  User Web Interface   \n",
       "1                       2.12  ...        False               Email   \n",
       "2                       1.90  ...        False               Email   \n",
       "3                       0.94  ...        False               Email   \n",
       "4                       2.59  ...        False               Email   \n",
       "\n",
       "                                 Additional comments  \\\n",
       "0  2023-02-21 02:00:05 - System (Additional comme...   \n",
       "1  2023-02-09 02:00:05 - System (Additional comme...   \n",
       "2  2023-02-09 02:00:06 - System (Additional comme...   \n",
       "3  2023-02-09 02:00:06 - System (Additional comme...   \n",
       "4  2023-02-09 02:00:06 - System (Additional comme...   \n",
       "\n",
       "                      Close code       Close notes  \\\n",
       "0  Not Solved (No User Response)  No user response   \n",
       "1  Not Solved (No User Response)  No user response   \n",
       "2  Not Solved (No User Response)  No user response   \n",
       "3  Not Solved (No User Response)  No user response   \n",
       "4  Not Solved (No User Response)  No user response   \n",
       "\n",
       "                             Comments and Work notes Description  \\\n",
       "0  2023-02-21 02:00:05 - System (Additional comme...         NaN   \n",
       "1  2023-02-09 02:00:05 - System (Additional comme...         NaN   \n",
       "2  2023-02-09 02:00:06 - System (Additional comme...         NaN   \n",
       "3  2023-02-09 02:00:06 - System (Additional comme...         NaN   \n",
       "4  2023-02-09 02:00:06 - System (Additional comme...         NaN   \n",
       "\n",
       "                    Staff work notes (NERSC private) ACS  \\\n",
       "0  2023-01-30 10:46:55 - Kirill Lozinskiy (Staff ... NaN   \n",
       "1                                                NaN NaN   \n",
       "2                                                NaN NaN   \n",
       "3                                                NaN NaN   \n",
       "4                                                NaN NaN   \n",
       "\n",
       "  Share with NERSC Projects  \n",
       "0                       NaN  \n",
       "1                       NaN  \n",
       "2                       NaN  \n",
       "3                       NaN  \n",
       "4                       NaN  \n",
       "\n",
       "[5 rows x 24 columns]"
      ]
     },
     "execution_count": 8,
     "metadata": {},
     "output_type": "execute_result"
    }
   ],
   "source": [
    "data['ID']=data['ID'].astype(str) #ensuring ID column is of string type\n",
    "data['ID']=data['ID'].str[3:] #removing first three characters\n",
    "data['ID']=pd.to_numeric(data['ID'],errors='coerce') #converting ID column into numberic\n",
    "data.head()"
   ]
  },
  {
   "cell_type": "code",
   "execution_count": 9,
   "id": "5dbea989-68da-4e04-b471-68426d6cf289",
   "metadata": {
    "tags": []
   },
   "outputs": [],
   "source": [
    "#selecting desired columns\n",
    "columns_to_keep = ['ID',\n",
    "                 'Created',  \n",
    "                'Title',\n",
    "                'Additional comments',\n",
    "                'Close notes',\n",
    "                'Comments and Work notes',\n",
    "                'Staff work notes (NERSC private)']\n",
    "data = data.loc[:, columns_to_keep].copy()"
   ]
  },
  {
   "cell_type": "code",
   "execution_count": 10,
   "id": "eadffc46-5903-4f26-9f61-dd95131cb11b",
   "metadata": {
    "tags": []
   },
   "outputs": [],
   "source": [
    "#removing spaces from column names\n",
    "data.columns = data.columns.str.replace(' ', '')"
   ]
  },
  {
   "cell_type": "code",
   "execution_count": 11,
   "id": "2da43b58-6fc6-4499-9aff-8802c81271ef",
   "metadata": {
    "tags": []
   },
   "outputs": [],
   "source": [
    "data.loc[:, 'Created']= pd.to_datetime(data['Created'], errors = 'coerce')"
   ]
  },
  {
   "cell_type": "code",
   "execution_count": 12,
   "id": "b1ac4d2a-4676-46a0-83c9-1f7e69b76103",
   "metadata": {
    "tags": []
   },
   "outputs": [
    {
     "name": "stdout",
     "output_type": "stream",
     "text": [
      "ID                                       int64\n",
      "Created                         datetime64[ns]\n",
      "Title                                   object\n",
      "Additionalcomments                      object\n",
      "Closenotes                              object\n",
      "CommentsandWorknotes                    object\n",
      "Staffworknotes(NERSCprivate)            object\n",
      "dtype: object\n"
     ]
    }
   ],
   "source": [
    "print(data.dtypes)"
   ]
  },
  {
   "cell_type": "code",
   "execution_count": 13,
   "id": "f5b0f9d0-8c18-4b39-8941-576a65ce604e",
   "metadata": {
    "tags": []
   },
   "outputs": [
    {
     "data": {
      "text/plain": [
       "Index(['ID', 'Created', 'Title', 'Additionalcomments', 'Closenotes',\n",
       "       'CommentsandWorknotes', 'Staffworknotes(NERSCprivate)'],\n",
       "      dtype='object')"
      ]
     },
     "execution_count": 13,
     "metadata": {},
     "output_type": "execute_result"
    }
   ],
   "source": [
    "data.columns"
   ]
  },
  {
   "cell_type": "code",
   "execution_count": 14,
   "id": "a2d9d733-1fd3-4aaf-9a7c-bb692350ddc1",
   "metadata": {
    "tags": []
   },
   "outputs": [],
   "source": [
    "#convert columns from object to str. I have to use \".loc\" to avoid the copy warning\n",
    "object_columns =[ 'Title', \n",
    "                 'Additionalcomments', \n",
    "                 'Closenotes',\n",
    "                 'CommentsandWorknotes', \n",
    "                 'Staffworknotes(NERSCprivate)']\n",
    "for col in object_columns:\n",
    "    data.loc[:, col] = data.loc[:, col].astype(str)"
   ]
  },
  {
   "cell_type": "code",
   "execution_count": 15,
   "id": "09b51e21-dc2e-4c65-a3f5-4842842252d2",
   "metadata": {
    "tags": []
   },
   "outputs": [
    {
     "data": {
      "text/html": [
       "<div>\n",
       "<style scoped>\n",
       "    .dataframe tbody tr th:only-of-type {\n",
       "        vertical-align: middle;\n",
       "    }\n",
       "\n",
       "    .dataframe tbody tr th {\n",
       "        vertical-align: top;\n",
       "    }\n",
       "\n",
       "    .dataframe thead th {\n",
       "        text-align: right;\n",
       "    }\n",
       "</style>\n",
       "<table border=\"1\" class=\"dataframe\">\n",
       "  <thead>\n",
       "    <tr style=\"text-align: right;\">\n",
       "      <th></th>\n",
       "      <th>ID</th>\n",
       "      <th>Created</th>\n",
       "      <th>Title</th>\n",
       "      <th>Additionalcomments</th>\n",
       "      <th>Closenotes</th>\n",
       "      <th>CommentsandWorknotes</th>\n",
       "      <th>Staffworknotes(NERSCprivate)</th>\n",
       "    </tr>\n",
       "  </thead>\n",
       "  <tbody>\n",
       "    <tr>\n",
       "      <th>0</th>\n",
       "      <td>197059</td>\n",
       "      <td>2023-01-18 04:39:28</td>\n",
       "      <td>Scratch purge extension</td>\n",
       "      <td>2023-02-21 02:00:05 - System (Additional comme...</td>\n",
       "      <td>No user response</td>\n",
       "      <td>2023-02-21 02:00:05 - System (Additional comme...</td>\n",
       "      <td>2023-01-30 10:46:55 - Kirill Lozinskiy (Staff ...</td>\n",
       "    </tr>\n",
       "    <tr>\n",
       "      <th>1</th>\n",
       "      <td>197077</td>\n",
       "      <td>2023-01-18 07:34:40</td>\n",
       "      <td>RE: Your NERSC account in the new allocation year</td>\n",
       "      <td>2023-02-09 02:00:05 - System (Additional comme...</td>\n",
       "      <td>No user response</td>\n",
       "      <td>2023-02-09 02:00:05 - System (Additional comme...</td>\n",
       "      <td>nan</td>\n",
       "    </tr>\n",
       "  </tbody>\n",
       "</table>\n",
       "</div>"
      ],
      "text/plain": [
       "       ID             Created  \\\n",
       "0  197059 2023-01-18 04:39:28   \n",
       "1  197077 2023-01-18 07:34:40   \n",
       "\n",
       "                                               Title  \\\n",
       "0                            Scratch purge extension   \n",
       "1  RE: Your NERSC account in the new allocation year   \n",
       "\n",
       "                                  Additionalcomments        Closenotes  \\\n",
       "0  2023-02-21 02:00:05 - System (Additional comme...  No user response   \n",
       "1  2023-02-09 02:00:05 - System (Additional comme...  No user response   \n",
       "\n",
       "                                CommentsandWorknotes  \\\n",
       "0  2023-02-21 02:00:05 - System (Additional comme...   \n",
       "1  2023-02-09 02:00:05 - System (Additional comme...   \n",
       "\n",
       "                        Staffworknotes(NERSCprivate)  \n",
       "0  2023-01-30 10:46:55 - Kirill Lozinskiy (Staff ...  \n",
       "1                                                nan  "
      ]
     },
     "execution_count": 15,
     "metadata": {},
     "output_type": "execute_result"
    }
   ],
   "source": [
    "data.head(2)"
   ]
  },
  {
   "cell_type": "code",
   "execution_count": 16,
   "id": "cbfb189e-4d15-4f00-90d3-3490702759e2",
   "metadata": {
    "tags": []
   },
   "outputs": [
    {
     "data": {
      "text/plain": [
       "\"2023-02-21 02:00:05 - System (Additional comments)\\nIncident automatically closed after 7 days in the Resolved state.\\n\\n2023-02-13 12:26:09 - System (Additional comments)\\nIncident automatically resolved after 14 days in waiting for user reply.\\n\\n2023-01-18 12:25:50 - Lisa Gerhardt (Additional comments)\\nHi Sam,\\nOnce thI can extend your Cori scratch purging exemption until March 31, 2023. At this time, we don't have a good way to enforce a purge exemption on Perlmutter scratch (though we're also currently not purging), so I'd advise you to prioritize backing up that data.\\n\\nBye,\\nLisa\\n\\n2023-01-18 04:39:29 - Samuel Totorica (Additional comments)\\nHello,\\n\\nWould it be possible to reset the purging timer for my Cori and Perlmutter scratch folders?  I'm actively using the data in there for a couple of papers simultaneously right now.  In that time I will make sure to learn to use tape storage, but the extension would be a great help because I'm currently quite overwhelmed and it seems tape may be complicated as some of the simulations have a number of files that exceed the the htar limit.  I would really appreciate this!\\n\\nThe folders are:\\n\\n/global/cscratch1/sd/stotor\\n/pscratch/sd/s/stotor\\n\\nThank you,\\nSam\\n\\n\""
      ]
     },
     "execution_count": 16,
     "metadata": {},
     "output_type": "execute_result"
    }
   ],
   "source": [
    "data['Additionalcomments'][0]"
   ]
  },
  {
   "cell_type": "code",
   "execution_count": 17,
   "id": "8eca8fe4-a9eb-47bf-bab3-18e22e79f502",
   "metadata": {
    "tags": []
   },
   "outputs": [],
   "source": [
    "#clean \n",
    "   #isolate import columns, drop unimportant columns\n",
    "   #remove time stamps (can look at my code and use that) \n",
    "\n",
    "\n",
    "text_cols = [ 'Created', \n",
    "             'Title',\n",
    "            'Additionalcomments',\n",
    "             'Closenotes',\n",
    "            'CommentsandWorknotes',\n",
    "           'Staffworknotes(NERSCprivate)'\n",
    "            ]\n",
    "\n",
    "data = data[['ID'] + text_cols].copy()\n",
    "data.fillna('', inplace=True)\n",
    "data = data.astype(str)\n",
    "\n",
    "## EP -- Let's use this cell to name the columns we want our data frame. This is a little different than what I did in\n",
    "# 'ticket_text_mine.py`"
   ]
  },
  {
   "cell_type": "code",
   "execution_count": 18,
   "id": "ef3de449-277a-496e-92ba-b41aceb8cb6e",
   "metadata": {
    "tags": []
   },
   "outputs": [
    {
     "data": {
      "text/plain": [
       "\"2023-02-21 02:00:05 - System (Additional comments)\\nIncident automatically closed after 7 days in the Resolved state.\\n\\n2023-02-13 12:26:09 - System (Additional comments)\\nIncident automatically resolved after 14 days in waiting for user reply.\\n\\n2023-01-18 12:25:50 - Lisa Gerhardt (Additional comments)\\nHi Sam,\\nOnce thI can extend your Cori scratch purging exemption until March 31, 2023. At this time, we don't have a good way to enforce a purge exemption on Perlmutter scratch (though we're also currently not purging), so I'd advise you to prioritize backing up that data.\\n\\nBye,\\nLisa\\n\\n2023-01-18 04:39:29 - Samuel Totorica (Additional comments)\\nHello,\\n\\nWould it be possible to reset the purging timer for my Cori and Perlmutter scratch folders?  I'm actively using the data in there for a couple of papers simultaneously right now.  In that time I will make sure to learn to use tape storage, but the extension would be a great help because I'm currently quite overwhelmed and it seems tape may be complicated as some of the simulations have a number of files that exceed the the htar limit.  I would really appreciate this!\\n\\nThe folders are:\\n\\n/global/cscratch1/sd/stotor\\n/pscratch/sd/s/stotor\\n\\nThank you,\\nSam\\n\\n\""
      ]
     },
     "execution_count": 18,
     "metadata": {},
     "output_type": "execute_result"
    }
   ],
   "source": [
    "data['Additionalcomments'][0]"
   ]
  },
  {
   "cell_type": "code",
   "execution_count": 19,
   "id": "b4713acf-8b34-4383-b48a-ad78ca5a74b8",
   "metadata": {
    "tags": []
   },
   "outputs": [
    {
     "data": {
      "text/html": [
       "<div>\n",
       "<style scoped>\n",
       "    .dataframe tbody tr th:only-of-type {\n",
       "        vertical-align: middle;\n",
       "    }\n",
       "\n",
       "    .dataframe tbody tr th {\n",
       "        vertical-align: top;\n",
       "    }\n",
       "\n",
       "    .dataframe thead th {\n",
       "        text-align: right;\n",
       "    }\n",
       "</style>\n",
       "<table border=\"1\" class=\"dataframe\">\n",
       "  <thead>\n",
       "    <tr style=\"text-align: right;\">\n",
       "      <th></th>\n",
       "      <th>ID</th>\n",
       "      <th>Created</th>\n",
       "      <th>Title</th>\n",
       "      <th>Additionalcomments</th>\n",
       "      <th>Closenotes</th>\n",
       "      <th>CommentsandWorknotes</th>\n",
       "      <th>Staffworknotes(NERSCprivate)</th>\n",
       "    </tr>\n",
       "  </thead>\n",
       "  <tbody>\n",
       "    <tr>\n",
       "      <th>0</th>\n",
       "      <td>197059</td>\n",
       "      <td>2023-01-18 04:39:28</td>\n",
       "      <td>Scratch purge extension</td>\n",
       "      <td>2023-02-21 02:00:05 - System (Additional comme...</td>\n",
       "      <td>No user response</td>\n",
       "      <td>2023-02-21 02:00:05 - System (Additional comme...</td>\n",
       "      <td>2023-01-30 10:46:55 - Kirill Lozinskiy (Staff ...</td>\n",
       "    </tr>\n",
       "    <tr>\n",
       "      <th>1</th>\n",
       "      <td>197077</td>\n",
       "      <td>2023-01-18 07:34:40</td>\n",
       "      <td>RE: Your NERSC account in the new allocation year</td>\n",
       "      <td>2023-02-09 02:00:05 - System (Additional comme...</td>\n",
       "      <td>No user response</td>\n",
       "      <td>2023-02-09 02:00:05 - System (Additional comme...</td>\n",
       "      <td>nan</td>\n",
       "    </tr>\n",
       "  </tbody>\n",
       "</table>\n",
       "</div>"
      ],
      "text/plain": [
       "       ID              Created  \\\n",
       "0  197059  2023-01-18 04:39:28   \n",
       "1  197077  2023-01-18 07:34:40   \n",
       "\n",
       "                                               Title  \\\n",
       "0                            Scratch purge extension   \n",
       "1  RE: Your NERSC account in the new allocation year   \n",
       "\n",
       "                                  Additionalcomments        Closenotes  \\\n",
       "0  2023-02-21 02:00:05 - System (Additional comme...  No user response   \n",
       "1  2023-02-09 02:00:05 - System (Additional comme...  No user response   \n",
       "\n",
       "                                CommentsandWorknotes  \\\n",
       "0  2023-02-21 02:00:05 - System (Additional comme...   \n",
       "1  2023-02-09 02:00:05 - System (Additional comme...   \n",
       "\n",
       "                        Staffworknotes(NERSCprivate)  \n",
       "0  2023-01-30 10:46:55 - Kirill Lozinskiy (Staff ...  \n",
       "1                                                nan  "
      ]
     },
     "execution_count": 19,
     "metadata": {},
     "output_type": "execute_result"
    }
   ],
   "source": [
    "data.head(2)"
   ]
  },
  {
   "cell_type": "code",
   "execution_count": 20,
   "id": "ada593b2-c4db-4781-9f78-2ab06d0bdc27",
   "metadata": {
    "tags": []
   },
   "outputs": [
    {
     "data": {
      "text/plain": [
       "0       2023-01-30 10:46:55 - Kirill Lozinskiy (Staff ...\n",
       "1                                                     nan\n",
       "2                                                     nan\n",
       "3                                                     nan\n",
       "4                                                     nan\n",
       "                              ...                        \n",
       "2811    2023-07-05 13:23:03 - Yun (Helen) He (Staff wo...\n",
       "2812    2023-07-05 13:12:44 - Christopher Samuel (Staf...\n",
       "2813                                                  nan\n",
       "2814                                                  nan\n",
       "2815                                                  nan\n",
       "Name: Staffworknotes(NERSCprivate), Length: 2816, dtype: object"
      ]
     },
     "execution_count": 20,
     "metadata": {},
     "output_type": "execute_result"
    }
   ],
   "source": [
    "data[text_cols[5]]"
   ]
  },
  {
   "cell_type": "code",
   "execution_count": 21,
   "id": "c7dcf49b-2ad0-46ea-9745-f235f4a5dae0",
   "metadata": {
    "tags": []
   },
   "outputs": [],
   "source": [
    "def process_comment_text(text):\n",
    "    \n",
    "    # Removed System Messages\n",
    "    text = re.sub(r'No user response \\d{4}-\\d{2}-\\d{2}\\s\\d{2}:\\d{2}:\\d{2}\\s- System \\(Additional comments\\)','',text)\n",
    "    text = re.sub(r'\\d{4}-\\d{2}-\\d{2}\\s\\d{2}:\\d{2}:\\d{2}\\s-.*?\\(Additional\\scomments\\)','',text)\n",
    "    text = re.sub(r'\\d{4}-\\d{2}-\\d{2}\\s\\d{2}:\\d{2}:\\d{2}\\s-.{1,60}?\\(Staff work notes \\(NERSC private\\)\\)','',text)\n",
    "    \n",
    "    text = re.sub(r'On\\s\\w{3},\\s\\w{3}\\s\\d+,\\s\\d{4}\\sat\\s\\d+:\\d{2}\\s\\w{2}','',text)\n",
    "    text = re.sub(r'Incident automatically closed after \\d+? days in the Resolved state.','',text)\n",
    "    text = re.sub(r'Incident automatically resolved after \\d+? days in waiting for user reply','',text)\n",
    "                    #Incident automatically resolved after 14 days in waiting for user reply.\n",
    "    \n",
    "    # Remove HTML links\n",
    "    text = re.sub(r'https?:\\/\\/(www\\.)?[-a-zA-Z0-9@:%._\\+~#=]{1,256}\\.[a-zA-Z0-9()]{1,6}\\b([-a-zA-Z0-9()@:%_\\+.~#?&//=]*)', '', text)\n",
    "    \n",
    "    #remove phonenumber\n",
    "    text = re.sub(r'(\\+?\\d{1,2}[-.\\s]?)?(\\(?\\d{3}\\)?[-.\\s]?)?\\d{3}[-.\\s]?\\d{4}', '', text)\n",
    "    \n",
    "    #remove emails\n",
    "    text = re.sub(r'[\\w]+@[\\w]+.\\w{3}','',text)\n",
    "    \n",
    "    # Convert text to lowercase\n",
    "    text = text.lower()\n",
    "    \n",
    "    # Remove specific words like 'hi', 'hello'\n",
    "    unwanted_words = ['hi', 'hello','email','organization','laboratory','bye','mr','thanks','day']\n",
    "    pattern = r'\\b(?:{})\\b'.format('|'.join(unwanted_words))\n",
    "    text = re.sub(pattern, '', text)\n",
    "    \n",
    "\n",
    "    return text"
   ]
  },
  {
   "cell_type": "code",
   "execution_count": 33,
   "id": "75039b93-7257-4475-8e7c-e762384abb41",
   "metadata": {
    "tags": []
   },
   "outputs": [
    {
     "name": "stdout",
     "output_type": "stream",
     "text": [
      "       ID              Created  \\\n",
      "0  197059  2023-01-18 04:39:28   \n",
      "1  197077  2023-01-18 07:34:40   \n",
      "2  197078  2023-01-18 07:34:43   \n",
      "3  197079  2023-01-18 07:34:45   \n",
      "4  197080  2023-01-18 07:38:44   \n",
      "\n",
      "                                               Title  \\\n",
      "0                            Scratch purge extension   \n",
      "1  RE: Your NERSC account in the new allocation year   \n",
      "2  Re: Your NERSC account in the new allocation year   \n",
      "3  Re: Your NERSC account in the new allocation year   \n",
      "4  RE: Your NERSC account in the new allocation year   \n",
      "\n",
      "                                  Additionalcomments        Closenotes  \\\n",
      "0  2023-02-21 02:00:05 - System (Additional comme...  No user response   \n",
      "1  2023-02-09 02:00:05 - System (Additional comme...  No user response   \n",
      "2  2023-02-09 02:00:06 - System (Additional comme...  No user response   \n",
      "3  2023-02-09 02:00:06 - System (Additional comme...  No user response   \n",
      "4  2023-02-09 02:00:06 - System (Additional comme...  No user response   \n",
      "\n",
      "                                CommentsandWorknotes  \\\n",
      "0  2023-02-21 02:00:05 - System (Additional comme...   \n",
      "1  2023-02-09 02:00:05 - System (Additional comme...   \n",
      "2  2023-02-09 02:00:06 - System (Additional comme...   \n",
      "3  2023-02-09 02:00:06 - System (Additional comme...   \n",
      "4  2023-02-09 02:00:06 - System (Additional comme...   \n",
      "\n",
      "                        Staffworknotes(NERSCprivate)  \\\n",
      "0  2023-01-30 10:46:55 - Kirill Lozinskiy (Staff ...   \n",
      "1                                                nan   \n",
      "2                                                nan   \n",
      "3                                                nan   \n",
      "4                                                nan   \n",
      "\n",
      "                                           text_data  \n",
      "0  2023-01-18 04:39:28 scratch purge extension \\n...  \n",
      "1  2023-01-18 07:34:40 re: your nersc account in ...  \n",
      "2  2023-01-18 07:34:43 re: your nersc account in ...  \n",
      "3  2023-01-18 07:34:45 re: your nersc account in ...  \n",
      "4  2023-01-18 07:38:44 re: your nersc account in ...  \n",
      "       ID              Created  \\\n",
      "0  197059  2023-01-18 04:39:28   \n",
      "1  197077  2023-01-18 07:34:40   \n",
      "2  197078  2023-01-18 07:34:43   \n",
      "3  197079  2023-01-18 07:34:45   \n",
      "4  197080  2023-01-18 07:38:44   \n",
      "\n",
      "                                               Title  \\\n",
      "0                            Scratch purge extension   \n",
      "1  RE: Your NERSC account in the new allocation year   \n",
      "2  Re: Your NERSC account in the new allocation year   \n",
      "3  Re: Your NERSC account in the new allocation year   \n",
      "4  RE: Your NERSC account in the new allocation year   \n",
      "\n",
      "                                  Additionalcomments        Closenotes  \\\n",
      "0  2023-02-21 02:00:05 - System (Additional comme...  No user response   \n",
      "1  2023-02-09 02:00:05 - System (Additional comme...  No user response   \n",
      "2  2023-02-09 02:00:06 - System (Additional comme...  No user response   \n",
      "3  2023-02-09 02:00:06 - System (Additional comme...  No user response   \n",
      "4  2023-02-09 02:00:06 - System (Additional comme...  No user response   \n",
      "\n",
      "                                CommentsandWorknotes  \\\n",
      "0  2023-02-21 02:00:05 - System (Additional comme...   \n",
      "1  2023-02-09 02:00:05 - System (Additional comme...   \n",
      "2  2023-02-09 02:00:06 - System (Additional comme...   \n",
      "3  2023-02-09 02:00:06 - System (Additional comme...   \n",
      "4  2023-02-09 02:00:06 - System (Additional comme...   \n",
      "\n",
      "                        Staffworknotes(NERSCprivate)  \\\n",
      "0  2023-01-30 10:46:55 - Kirill Lozinskiy (Staff ...   \n",
      "1                                                nan   \n",
      "2                                                nan   \n",
      "3                                                nan   \n",
      "4                                                nan   \n",
      "\n",
      "                                           text_data  \n",
      "0  2023-01-18 04:39:28 Scratch purge extension 20...  \n",
      "1  2023-01-18 07:34:40 RE: Your NERSC account in ...  \n",
      "2  2023-01-18 07:34:43 Re: Your NERSC account in ...  \n",
      "3  2023-01-18 07:34:45 Re: Your NERSC account in ...  \n",
      "4  2023-01-18 07:38:44 RE: Your NERSC account in ...  \n",
      "CPU times: user 3.76 s, sys: 17.3 ms, total: 3.78 s\n",
      "Wall time: 3.78 s\n"
     ]
    }
   ],
   "source": [
    "%%time\n",
    "for col in text_cols: \n",
    "    if col not in data.columns: \n",
    "        raise ValueError(f\"Column '{col}' not found in DataFrame\") \n",
    "\n",
    "\n",
    "data[text_cols] = data[text_cols].fillna('').astype(str)\n",
    "# Concatenate the text columns\n",
    "print(data.head())\n",
    "data['text_data'] = data[text_cols].apply(lambda row: ' '.join(row.values.astype(str)), axis=1)\n",
    "print(data.head())\n",
    "# Apply the cleaning function\n",
    "data_before = pd.DataFrame()\n",
    "data_before['text_data'] = data['text_data']\n",
    "data['text_data'] = data['text_data'].apply(process_comment_text)"
   ]
  },
  {
   "cell_type": "code",
   "execution_count": 23,
   "id": "519c3f41-6de5-4dbb-bfc3-59fc8a6c37eb",
   "metadata": {
    "tags": []
   },
   "outputs": [],
   "source": [
    "data_cleaned = data[['ID','Created','text_data']] "
   ]
  },
  {
   "cell_type": "code",
   "execution_count": 24,
   "id": "0bf27aa2-93a5-4556-8280-cb76c9a0c08b",
   "metadata": {
    "tags": []
   },
   "outputs": [
    {
     "data": {
      "text/plain": [
       "\"2023-01-18 04:39:28 Scratch purge extension 2023-02-21 02:00:05 - System (Additional comments)\\nIncident automatically closed after 7 days in the Resolved state.\\n\\n2023-02-13 12:26:09 - System (Additional comments)\\nIncident automatically resolved after 14 days in waiting for user reply.\\n\\n2023-01-18 12:25:50 - Lisa Gerhardt (Additional comments)\\nHi Sam,\\nOnce thI can extend your Cori scratch purging exemption until March 31, 2023. At this time, we don't have a good way to enforce a purge exemption on Perlmutter scratch (though we're also currently not purging), so I'd advise you to prioritize backing up that data.\\n\\nBye,\\nLisa\\n\\n2023-01-18 04:39:29 - Samuel Totorica (Additional comments)\\nHello,\\n\\nWould it be possible to reset the purging timer for my Cori and Perlmutter scratch folders?  I'm actively using the data in there for a couple of papers simultaneously right now.  In that time I will make sure to learn to use tape storage, but the extension would be a great help because I'm currently quite overwhelmed and it seems tape may be complicated as some of the simulations have a number of files that exceed the the htar limit.  I would really appreciate this!\\n\\nThe folders are:\\n\\n/global/cscratch1/sd/stotor\\n/pscratch/sd/s/stotor\\n\\nThank you,\\nSam\\n\\n No user response 2023-02-21 02:00:05 - System (Additional comments)\\nIncident automatically closed after 7 days in the Resolved state.\\n\\n2023-02-13 12:26:09 - System (Additional comments)\\nIncident automatically resolved after 14 days in waiting for user reply.\\n\\n2023-01-30 10:46:55 - Kirill Lozinskiy (Staff work notes (NERSC private))\\nHi Lisa, thanks! I added the path to the exemption list for purging. \\n\\nKirill\\n\\n2023-01-18 12:25:50 - Lisa Gerhardt (Additional comments)\\nHi Sam,\\nOnce thI can extend your Cori scratch purging exemption until March 31, 2023. At this time, we don't have a good way to enforce a purge exemption on Perlmutter scratch (though we're also currently not purging), so I'd advise you to prioritize backing up that data.\\n\\nBye,\\nLisa\\n\\n2023-01-18 12:25:50 - Lisa Gerhardt (Staff work notes (NERSC private))\\nHi Kirill,\\nCan you extend the purge exemption for /global/cscratch1/sd/stotor until March 31, 2023? I updated iris already, but I think you have a manual thing you need to do too?\\n\\nThanks,\\nLisa\\n\\n2023-01-18 04:39:29 - Samuel Totorica (Additional comments)\\nHello,\\n\\nWould it be possible to reset the purging timer for my Cori and Perlmutter scratch folders?  I'm actively using the data in there for a couple of papers simultaneously right now.  In that time I will make sure to learn to use tape storage, but the extension would be a great help because I'm currently quite overwhelmed and it seems tape may be complicated as some of the simulations have a number of files that exceed the the htar limit.  I would really appreciate this!\\n\\nThe folders are:\\n\\n/global/cscratch1/sd/stotor\\n/pscratch/sd/s/stotor\\n\\nThank you,\\nSam\\n\\n 2023-01-30 10:46:55 - Kirill Lozinskiy (Staff work notes (NERSC private))\\nHi Lisa, thanks! I added the path to the exemption list for purging. \\n\\nKirill\\n\\n2023-01-18 12:25:50 - Lisa Gerhardt (Staff work notes (NERSC private))\\nHi Kirill,\\nCan you extend the purge exemption for /global/cscratch1/sd/stotor until March 31, 2023? I updated iris already, but I think you have a manual thing you need to do too?\\n\\nThanks,\\nLisa\\n\\n\""
      ]
     },
     "execution_count": 24,
     "metadata": {},
     "output_type": "execute_result"
    }
   ],
   "source": [
    "data_before['text_data'].iloc[0]"
   ]
  },
  {
   "cell_type": "code",
   "execution_count": 25,
   "id": "85f1edf2-ae5c-404e-a0d3-e233c0c23f3b",
   "metadata": {
    "tags": []
   },
   "outputs": [
    {
     "data": {
      "text/plain": [
       "\"2023-01-18 04:39:28 scratch purge extension \\n\\n\\n\\n.\\n\\n\\n sam,\\nonce thi can extend your cori scratch purging exemption until march 31, 2023. at this time, we don't have a good way to enforce a purge exemption on perlmutter scratch (though we're also currently not purging), so i'd advise you to prioritize backing up that data.\\n\\n,\\nlisa\\n\\n\\n,\\n\\nwould it be possible to reset the purging timer for my cori and perlmutter scratch folders?  i'm actively using the data in there for a couple of papers simultaneously right now.  in that time i will make sure to learn to use tape storage, but the extension would be a great help because i'm currently quite overwhelmed and it seems tape may be complicated as some of the simulations have a number of files that exceed the the htar limit.  i would really appreciate this!\\n\\nthe folders are:\\n\\n/global/cscratch1/sd/stotor\\n/pscratch/sd/s/stotor\\n\\nthank you,\\nsam\\n\\n \\n\\n\\n\\n.\\n\\n\\n lisa, ! i added the path to the exemption list for purging. \\n\\nkirill\\n\\n\\n sam,\\nonce thi can extend your cori scratch purging exemption until march 31, 2023. at this time, we don't have a good way to enforce a purge exemption on perlmutter scratch (though we're also currently not purging), so i'd advise you to prioritize backing up that data.\\n\\n,\\nlisa\\n\\n\\n kirill,\\ncan you extend the purge exemption for /global/cscratch1/sd/stotor until march 31, 2023? i updated iris already, but i think you have a manual thing you need to do too?\\n\\n,\\nlisa\\n\\n\\n,\\n\\nwould it be possible to reset the purging timer for my cori and perlmutter scratch folders?  i'm actively using the data in there for a couple of papers simultaneously right now.  in that time i will make sure to learn to use tape storage, but the extension would be a great help because i'm currently quite overwhelmed and it seems tape may be complicated as some of the simulations have a number of files that exceed the the htar limit.  i would really appreciate this!\\n\\nthe folders are:\\n\\n/global/cscratch1/sd/stotor\\n/pscratch/sd/s/stotor\\n\\nthank you,\\nsam\\n\\n \\n lisa, ! i added the path to the exemption list for purging. \\n\\nkirill\\n\\n\\n kirill,\\ncan you extend the purge exemption for /global/cscratch1/sd/stotor until march 31, 2023? i updated iris already, but i think you have a manual thing you need to do too?\\n\\n,\\nlisa\\n\\n\""
      ]
     },
     "execution_count": 25,
     "metadata": {},
     "output_type": "execute_result"
    }
   ],
   "source": [
    "process_comment_text(data_before['text_data'].iloc[0])"
   ]
  },
  {
   "cell_type": "code",
   "execution_count": 26,
   "id": "ccffc06a-4de5-4b05-ae73-4d45591e5f5d",
   "metadata": {
    "tags": []
   },
   "outputs": [
    {
     "data": {
      "text/plain": [
       "\"2023-01-18 04:39:28 Scratch purge extension 2023-02-21 02:00:05 - System (Additional comments)\\nIncident automatically closed after 7 days in the Resolved state.\\n\\n2023-02-13 12:26:09 - System (Additional comments)\\nIncident automatically resolved after 14 days in waiting for user reply.\\n\\n2023-01-18 12:25:50 - Lisa Gerhardt (Additional comments)\\nHi Sam,\\nOnce thI can extend your Cori scratch purging exemption until March 31, 2023. At this time, we don't have a good way to enforce a purge exemption on Perlmutter scratch (though we're also currently not purging), so I'd advise you to prioritize backing up that data.\\n\\nBye,\\nLisa\\n\\n2023-01-18 04:39:29 - Samuel Totorica (Additional comments)\\nHello,\\n\\nWould it be possible to reset the purging timer for my Cori and Perlmutter scratch folders?  I'm actively using the data in there for a couple of papers simultaneously right now.  In that time I will make sure to learn to use tape storage, but the extension would be a great help because I'm currently quite overwhelmed and it seems tape may be complicated as some of the simulations have a number of files that exceed the the htar limit.  I would really appreciate this!\\n\\nThe folders are:\\n\\n/global/cscratch1/sd/stotor\\n/pscratch/sd/s/stotor\\n\\nThank you,\\nSam\\n\\n No user response 2023-02-21 02:00:05 - System (Additional comments)\\nIncident automatically closed after 7 days in the Resolved state.\\n\\n2023-02-13 12:26:09 - System (Additional comments)\\nIncident automatically resolved after 14 days in waiting for user reply.\\n\\n2023-01-30 10:46:55 - Kirill Lozinskiy (Staff work notes (NERSC private))\\nHi Lisa, thanks! I added the path to the exemption list for purging. \\n\\nKirill\\n\\n2023-01-18 12:25:50 - Lisa Gerhardt (Additional comments)\\nHi Sam,\\nOnce thI can extend your Cori scratch purging exemption until March 31, 2023. At this time, we don't have a good way to enforce a purge exemption on Perlmutter scratch (though we're also currently not purging), so I'd advise you to prioritize backing up that data.\\n\\nBye,\\nLisa\\n\\n2023-01-18 12:25:50 - Lisa Gerhardt (Staff work notes (NERSC private))\\nHi Kirill,\\nCan you extend the purge exemption for /global/cscratch1/sd/stotor until March 31, 2023? I updated iris already, but I think you have a manual thing you need to do too?\\n\\nThanks,\\nLisa\\n\\n2023-01-18 04:39:29 - Samuel Totorica (Additional comments)\\nHello,\\n\\nWould it be possible to reset the purging timer for my Cori and Perlmutter scratch folders?  I'm actively using the data in there for a couple of papers simultaneously right now.  In that time I will make sure to learn to use tape storage, but the extension would be a great help because I'm currently quite overwhelmed and it seems tape may be complicated as some of the simulations have a number of files that exceed the the htar limit.  I would really appreciate this!\\n\\nThe folders are:\\n\\n/global/cscratch1/sd/stotor\\n/pscratch/sd/s/stotor\\n\\nThank you,\\nSam\\n\\n 2023-01-30 10:46:55 - Kirill Lozinskiy (Staff work notes (NERSC private))\\nHi Lisa, thanks! I added the path to the exemption list for purging. \\n\\nKirill\\n\\n2023-01-18 12:25:50 - Lisa Gerhardt (Staff work notes (NERSC private))\\nHi Kirill,\\nCan you extend the purge exemption for /global/cscratch1/sd/stotor until March 31, 2023? I updated iris already, but I think you have a manual thing you need to do too?\\n\\nThanks,\\nLisa\\n\\n\""
      ]
     },
     "execution_count": 26,
     "metadata": {},
     "output_type": "execute_result"
    }
   ],
   "source": [
    "data_cleaned['text_data'].iloc[0]"
   ]
  },
  {
   "cell_type": "code",
   "execution_count": 27,
   "id": "5f1f2999-0960-424f-a8b2-4f3b6bc4b6bc",
   "metadata": {},
   "outputs": [],
   "source": [
    "data_cleaned.to_csv('/global/u2/m/masare/ticket-text-analysis/bert_ticket_cleaned.csv', index=False)\n",
    "#data_df = pd.read_csv('/global/u2/m/masare/ticket-text-analysis/Ticket.csv')"
   ]
  },
  {
   "cell_type": "code",
   "execution_count": 28,
   "id": "466810c2-5458-44f5-ba87-b721faed59dc",
   "metadata": {
    "tags": []
   },
   "outputs": [],
   "source": [
    "#import pandas as pd\n",
    "#import spacy\n",
    "#nlp = spacy.load(\"en_core_web_lg\")\n",
    "#def remove_person_names(text):\n",
    "  #doc = nlp(text)\n",
    " #new_text = []\n",
    " # for token in doc:\n",
    "  #  if token.ent_type_ != \"PERSON\":\n",
    "  #    new_text.append(token.text)\n",
    "   # else:\n",
    "  #    new_text.append(\" \")\n",
    " # return \" \".join(new_text)\n",
    "\n"
   ]
  },
  {
   "cell_type": "code",
   "execution_count": 29,
   "id": "9fe7d289-9505-4546-885f-2c80507b81c4",
   "metadata": {
    "tags": []
   },
   "outputs": [],
   "source": [
    "# Apply the function to the relevant columns\n",
    "#for column in ['Additionalcomments', 'Closenotes', 'CommentsandWorknotes', 'Staffworknotes(NERSCprivate)']:\n",
    " # data[column] = data[column].apply(remove_person_names)\n",
    "\n",
    "#print(data)"
   ]
  },
  {
   "cell_type": "code",
   "execution_count": 30,
   "id": "f6e4aac7-139e-4a40-904b-c166a80d649c",
   "metadata": {},
   "outputs": [],
   "source": [
    "\n",
    "  \n",
    "    # Removing timestamps\n",
    "    #text = re.sub(r'\\b\\w{3}\\s+\\w{3}\\s+\\d{1,2}\\s+\\d{4}\\s+\\d{1,2}:\\d{2}\\s+\\w{2}\\b', '', text)\n",
    "    #text = re.sub(r'\\b\\w{3}\\s+\\w{3}\\s+\\d{1,2}\\s+\\d{4}\\s+\\d{1,2}\\d{2}\\s+\\w{2}\\b', '', text, flags=re.IGNORECASE)\n",
    "    #text = re.sub(r'\\b(?:mon|tue|wed|thu|fri|sat|sun)\\s+(?:jan|feb|mar|apr|may|jun|jul|aug|sep|oct|nov|dec)\\s+\\d{1,2}\\s+\\d{4}\\s+\\d{1,2}[:]\\d{2}\\s+\\w{2}\\b', '', text, flags=re.IGNORECASE)\n",
    "    #text = re.sub(r'\\b\\w{3}\\s+\\w{3}\\s+\\d{1,2}\\s+\\d{4}\\s+\\d{1,2}\\d{2}\\s+\\w{2}\\b', '', text) \n",
    "    #text = re.sub(r'\\b\\(?:sat|sun|mon|tue|wed|thu|fri)\\.?(?:\\w*day)?\\s?\\b', '',text)\n",
    "    #mon[a-z\\.]*\\s+|tue[a-z\\.]*\\s+|wed[a-z\\.]*\\s+|thu[a-z\\.]*\\s+|fri[a-z\\.]*\\s+|sat[a-z\\.]*\\s+|sun[a-z\\.]*\\s+\n",
    "\n",
    "    \n",
    "    # Removing bracketed content\n",
    "    #text = re.sub(r'\\[.*?\\]', '', text)\n",
    "    #text = re.sub(r'\\(.*?\\)', '', text)\n",
    "    # Removing extra whitespace\n",
    "    #text = ' '.join(text.split())\n",
    "\n",
    "    #Removing names\n",
    "    #text = re.sub(r'\\b[a-zA-Z][a-z]*\\b(?:\\s+[a-zA-Z][a-z]*)*', '', text) \n",
    "    #text = re.sub(r'\\b[a-zA-Z-]+$\\b','', text)\n",
    "    #phone numbers\n",
    "    #text = re.sub(r'\\d\\d\\d-\\d\\d\\d-\\d\\d\\d\\d','', text)\n",
    "  \n",
    "    ##text = re.sub(r'\\d{4}-\\d{2}-\\d{2} \\d{2}:\\d{2}:\\d{2} - \\w+ \\w+ \\(Additional comments\\)', '', text)\n",
    "    ##text = re.sub(r'\\d{4}-\\d{2}-\\d{2} \\d{2}:\\d{2}:\\d{2} - \\w+-\\w+ \\w+ \\(Additional comments\\)', '', text)\n",
    "    ##text = re.sub(r'\\d{4}-\\d{2}-\\d{2} \\d{2}:\\d{2}:\\d{2} - Guest \\(Additional comments\\)', '', text)\n",
    "    ##text  = re.sub(r'\\d{4}-\\d{2}-\\d{2} \\d{2}:\\d{2}:\\d{2} - System \\(Additional comments\\)', '', text)\n",
    "    ##text = re.sub(r'\\d{4}-\\d{2}-\\d{2} \\d{2}:\\d{2}:\\d{2} - \\w+ \\w+ \\(Additional comments\\)', '', text)\n",
    "    \n",
    "      #text = re.sub(r'\\w+, w+ \\d+, d{4} at \\d{2}:\\d{2} \\w{2} \\d{4}-\\d{2}-\\d{2} \\d{2}:\\d{2}:\\d{2} - \\w+ \\w+ \\(Staff work notes \\(NERSC private\\)\\)','',text)\n",
    "\n",
    "    ##text = re.sub(r'\\d{4}-\\d{2}-\\d{2} \\d{2}:\\d{2}:\\d{2} - \\w+ \\w+ \\(Staff work notes \\(NERSC private\\)\\)', '', text)\n",
    "    ##text = re.sub(r'\\d{4}-\\d{2}-\\d{2} \\d{2}:\\d{2}:\\d{2} - Guest \\(Staff work notes \\(NERSC private\\)\\)', '', text)\n",
    "    #text = re.sub(r'On \\w+, w+ \\d+, d{4} at \\d{2}:\\d{2} \\w{2} \\d{4}-\\d{2}-\\d{2} \\d{2}:\\d{2}:\\d{2} - \\w+ \\w+ \\(Staff work notes \\(NERSC private\\)\\)'\n",
    "            \n",
    "    \n",
    "    #text = re.sub(r'@\\w+ \\w+', '', text)\n",
    "    #text = re.sub(r'\\d{4}-\\d{2}-\\d{2}', '', text)\n",
    "    # text_data = re.sub(r'\\d{2}:\\d{2}:\\d{2}', '', text) #remove system times\n",
    "    # text_data = re.sub(r'\\(Additional comments\\)', '', text)\n",
    "    # text_data = re.sub(r'\\(Staff work notes \\(NERSC private\\)\\)', '', text)\n",
    "   \n",
    "    \n",
    "  \n",
    "    # Remove punctuations\n",
    "    # text = re.sub(r'\\.','', text)\n",
    "    #text = re.sub(r',','', text)\n",
    "    #text = re.sub(r':','', text)\n",
    "    #text = re.sub(r'\\?','', text)\n",
    "    \n",
    "   \n",
    "  \n",
    "        \n",
    "    # removing quotes can be problematic\n",
    "    # text = re.sub(r'\\\"','', text)\n",
    "    # text = re.sub(r'\\'','', text)\n",
    "    #text = text.split()\n",
    "    \n",
    "    #wl = WordNetLemmatizer()\n",
    "    #text = [wl.lemmatize(word) for word in text if not word in set(stopwords.words('english'))]\n",
    "    #text = ' '.join(text)"
   ]
  },
  {
   "cell_type": "code",
   "execution_count": 31,
   "id": "2e1777fd-fe66-479f-a02f-0c6dee839c84",
   "metadata": {
    "tags": []
   },
   "outputs": [],
   "source": [
    "#text = \"2023-01-30 02:00:04 - System (Additional comments) \\\n",
    "#Incident automatically closed after 7 days in the Resolved state. \\\n",
    "#2023-01-19 07:58:19 - Yuen-Dat Chan (Additional comments) \\\n",
    "#reply from: ydchan@lbl.gov \\\n",
    "#Thank you very much! \\\n",
    "#On Wed, Jan 18, 2023 at 8:12 PM \\\n",
    "#2023-01-18 20:11:28 - Shane Canon (Additional comments) \\\n",
    "#This should be in place now. \\\n",
    "#2023-01-18 13:30:20 - Lisa Gerhardt (Additional comments) \\\n",
    "#Hi Yuen-Dat, \\\n",
    "#I've put in the request to add user chy to the majorana \\\n",
    "#ssh access. You should hear back soon. \\\n",
    "#\\\n",
    "#Bye, \\\n",
    "#Lisa\"\n"
   ]
  }
 ],
 "metadata": {
  "kernelspec": {
   "display_name": "sacct",
   "language": "python",
   "name": "sacct"
  },
  "language_info": {
   "codemirror_mode": {
    "name": "ipython",
    "version": 3
   },
   "file_extension": ".py",
   "mimetype": "text/x-python",
   "name": "python",
   "nbconvert_exporter": "python",
   "pygments_lexer": "ipython3",
   "version": "3.11.7"
  }
 },
 "nbformat": 4,
 "nbformat_minor": 5
}
