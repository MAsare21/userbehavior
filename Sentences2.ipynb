{
 "cells": [
  {
   "cell_type": "code",
   "execution_count": 1,
   "id": "33ead2e4-4842-4e8c-94ae-b7d211b38d41",
   "metadata": {
    "tags": []
   },
   "outputs": [
    {
     "name": "stderr",
     "output_type": "stream",
     "text": [
      "/global/homes/m/masare/.conda/envs/sacct/lib/python3.11/site-packages/sentence_transformers/cross_encoder/CrossEncoder.py:11: TqdmExperimentalWarning: Using `tqdm.autonotebook.tqdm` in notebook mode. Use `tqdm.tqdm` instead to force console mode (e.g. in jupyter console)\n",
      "  from tqdm.autonotebook import tqdm, trange\n",
      "2024-07-30 07:34:35.885787: E external/local_xla/xla/stream_executor/cuda/cuda_fft.cc:479] Unable to register cuFFT factory: Attempting to register factory for plugin cuFFT when one has already been registered\n",
      "2024-07-30 07:34:36.040410: E external/local_xla/xla/stream_executor/cuda/cuda_dnn.cc:10575] Unable to register cuDNN factory: Attempting to register factory for plugin cuDNN when one has already been registered\n",
      "2024-07-30 07:34:36.041133: E external/local_xla/xla/stream_executor/cuda/cuda_blas.cc:1442] Unable to register cuBLAS factory: Attempting to register factory for plugin cuBLAS when one has already been registered\n",
      "2024-07-30 07:34:36.280311: I tensorflow/core/platform/cpu_feature_guard.cc:210] This TensorFlow binary is optimized to use available CPU instructions in performance-critical operations.\n",
      "To enable the following instructions: AVX2 FMA, in other operations, rebuild TensorFlow with the appropriate compiler flags.\n",
      "2024-07-30 07:34:39.167887: W tensorflow/compiler/tf2tensorrt/utils/py_utils.cc:38] TF-TRT Warning: Could not find TensorRT\n",
      "[nltk_data] Downloading package stopwords to\n",
      "[nltk_data]     /global/homes/m/masare/nltk_data...\n",
      "[nltk_data]   Package stopwords is already up-to-date!\n"
     ]
    }
   ],
   "source": [
    "from sentence_transformers import SentenceTransformer\n",
    "import pandas as pd\n",
    "import numpy as np\n",
    "from sklearn.metrics.pairwise import cosine_similarity\n",
    "from unidecode import unidecode\n",
    "from sklearn.cluster import KMeans\n",
    "import pandas as pd\n",
    "import nltk\n",
    "from nltk.corpus import stopwords\n",
    "from sklearn.feature_extraction.text import CountVectorizer\n",
    "from sklearn.decomposition import LatentDirichletAllocation\n",
    "import pyLDAvis\n",
    "#import pyLDAvis.sklearn\n",
    "from sklearn.manifold import MDS\n",
    "from sklearn.cluster import KMeans\n",
    "import plotly.express as px\n",
    "\n",
    "\n",
    "\n",
    "nltk.download('stopwords')\n",
    "stop_words = set(stopwords.words('english'))"
   ]
  },
  {
   "cell_type": "code",
   "execution_count": 2,
   "id": "f4340581-9461-4ec6-b0bf-723b421fdaec",
   "metadata": {
    "tags": []
   },
   "outputs": [],
   "source": [
    "data = pd.read_csv(\"/global/homes/m/masare/ticket-text-analysis/backup.csv\")"
   ]
  },
  {
   "cell_type": "code",
   "execution_count": 3,
   "id": "572a8404-d785-4487-889b-c8ddb0283807",
   "metadata": {
    "tags": []
   },
   "outputs": [],
   "source": [
    "#  selecting the 'text_data' column\n",
    "text_data = data['text_data']\n"
   ]
  },
  {
   "cell_type": "code",
   "execution_count": 4,
   "id": "a31e8730-f705-4c8d-8a73-6b0a5bf04a1d",
   "metadata": {
    "tags": []
   },
   "outputs": [],
   "source": [
    "# Preprocessing function\n",
    "def preprocess(text):\n",
    "    text = text.lower()\n",
    "    text = ''.join([char for char in text if char.isalnum() or char.isspace()])\n",
    "    tokens = text.split()\n",
    "    tokens = [word for word in tokens if word not in stop_words]\n",
    "    return ' '.join(tokens)\n",
    "\n",
    "\n"
   ]
  },
  {
   "cell_type": "code",
   "execution_count": 5,
   "id": "835ad5ed-e886-42f7-b4d6-46cf337806c2",
   "metadata": {
    "tags": []
   },
   "outputs": [],
   "source": [
    "# Preprocess the text data\n",
    "preprocessed_data = text_data.apply(preprocess)\n"
   ]
  },
  {
   "cell_type": "code",
   "execution_count": 6,
   "id": "7ca499f9-18ab-4976-b214-9e35a06d18b7",
   "metadata": {
    "tags": []
   },
   "outputs": [],
   "source": [
    "# Vectorize the text data\n",
    "vectorizer = CountVectorizer(max_df=0.9, min_df=2, stop_words='english')\n",
    "text_vectorized = vectorizer.fit_transform(preprocessed_data)\n"
   ]
  },
  {
   "cell_type": "code",
   "execution_count": 7,
   "id": "517653df-6c37-48b8-a38d-2914fb68affd",
   "metadata": {
    "tags": []
   },
   "outputs": [
    {
     "data": {
      "text/html": [
       "<style>#sk-container-id-1 {color: black;}#sk-container-id-1 pre{padding: 0;}#sk-container-id-1 div.sk-toggleable {background-color: white;}#sk-container-id-1 label.sk-toggleable__label {cursor: pointer;display: block;width: 100%;margin-bottom: 0;padding: 0.3em;box-sizing: border-box;text-align: center;}#sk-container-id-1 label.sk-toggleable__label-arrow:before {content: \"▸\";float: left;margin-right: 0.25em;color: #696969;}#sk-container-id-1 label.sk-toggleable__label-arrow:hover:before {color: black;}#sk-container-id-1 div.sk-estimator:hover label.sk-toggleable__label-arrow:before {color: black;}#sk-container-id-1 div.sk-toggleable__content {max-height: 0;max-width: 0;overflow: hidden;text-align: left;background-color: #f0f8ff;}#sk-container-id-1 div.sk-toggleable__content pre {margin: 0.2em;color: black;border-radius: 0.25em;background-color: #f0f8ff;}#sk-container-id-1 input.sk-toggleable__control:checked~div.sk-toggleable__content {max-height: 200px;max-width: 100%;overflow: auto;}#sk-container-id-1 input.sk-toggleable__control:checked~label.sk-toggleable__label-arrow:before {content: \"▾\";}#sk-container-id-1 div.sk-estimator input.sk-toggleable__control:checked~label.sk-toggleable__label {background-color: #d4ebff;}#sk-container-id-1 div.sk-label input.sk-toggleable__control:checked~label.sk-toggleable__label {background-color: #d4ebff;}#sk-container-id-1 input.sk-hidden--visually {border: 0;clip: rect(1px 1px 1px 1px);clip: rect(1px, 1px, 1px, 1px);height: 1px;margin: -1px;overflow: hidden;padding: 0;position: absolute;width: 1px;}#sk-container-id-1 div.sk-estimator {font-family: monospace;background-color: #f0f8ff;border: 1px dotted black;border-radius: 0.25em;box-sizing: border-box;margin-bottom: 0.5em;}#sk-container-id-1 div.sk-estimator:hover {background-color: #d4ebff;}#sk-container-id-1 div.sk-parallel-item::after {content: \"\";width: 100%;border-bottom: 1px solid gray;flex-grow: 1;}#sk-container-id-1 div.sk-label:hover label.sk-toggleable__label {background-color: #d4ebff;}#sk-container-id-1 div.sk-serial::before {content: \"\";position: absolute;border-left: 1px solid gray;box-sizing: border-box;top: 0;bottom: 0;left: 50%;z-index: 0;}#sk-container-id-1 div.sk-serial {display: flex;flex-direction: column;align-items: center;background-color: white;padding-right: 0.2em;padding-left: 0.2em;position: relative;}#sk-container-id-1 div.sk-item {position: relative;z-index: 1;}#sk-container-id-1 div.sk-parallel {display: flex;align-items: stretch;justify-content: center;background-color: white;position: relative;}#sk-container-id-1 div.sk-item::before, #sk-container-id-1 div.sk-parallel-item::before {content: \"\";position: absolute;border-left: 1px solid gray;box-sizing: border-box;top: 0;bottom: 0;left: 50%;z-index: -1;}#sk-container-id-1 div.sk-parallel-item {display: flex;flex-direction: column;z-index: 1;position: relative;background-color: white;}#sk-container-id-1 div.sk-parallel-item:first-child::after {align-self: flex-end;width: 50%;}#sk-container-id-1 div.sk-parallel-item:last-child::after {align-self: flex-start;width: 50%;}#sk-container-id-1 div.sk-parallel-item:only-child::after {width: 0;}#sk-container-id-1 div.sk-dashed-wrapped {border: 1px dashed gray;margin: 0 0.4em 0.5em 0.4em;box-sizing: border-box;padding-bottom: 0.4em;background-color: white;}#sk-container-id-1 div.sk-label label {font-family: monospace;font-weight: bold;display: inline-block;line-height: 1.2em;}#sk-container-id-1 div.sk-label-container {text-align: center;}#sk-container-id-1 div.sk-container {/* jupyter's `normalize.less` sets `[hidden] { display: none; }` but bootstrap.min.css set `[hidden] { display: none !important; }` so we also need the `!important` here to be able to override the default hidden behavior on the sphinx rendered scikit-learn.org. See: https://github.com/scikit-learn/scikit-learn/issues/21755 */display: inline-block !important;position: relative;}#sk-container-id-1 div.sk-text-repr-fallback {display: none;}</style><div id=\"sk-container-id-1\" class=\"sk-top-container\"><div class=\"sk-text-repr-fallback\"><pre>LatentDirichletAllocation(n_components=5, random_state=42)</pre><b>In a Jupyter environment, please rerun this cell to show the HTML representation or trust the notebook. <br />On GitHub, the HTML representation is unable to render, please try loading this page with nbviewer.org.</b></div><div class=\"sk-container\" hidden><div class=\"sk-item\"><div class=\"sk-estimator sk-toggleable\"><input class=\"sk-toggleable__control sk-hidden--visually\" id=\"sk-estimator-id-1\" type=\"checkbox\" checked><label for=\"sk-estimator-id-1\" class=\"sk-toggleable__label sk-toggleable__label-arrow\">LatentDirichletAllocation</label><div class=\"sk-toggleable__content\"><pre>LatentDirichletAllocation(n_components=5, random_state=42)</pre></div></div></div></div></div>"
      ],
      "text/plain": [
       "LatentDirichletAllocation(n_components=5, random_state=42)"
      ]
     },
     "execution_count": 7,
     "metadata": {},
     "output_type": "execute_result"
    }
   ],
   "source": [
    "# Apply LDA for topic modeling\n",
    "num_topics = 5  # Number of topics\n",
    "lda_model = LatentDirichletAllocation(n_components=num_topics, random_state=42)\n",
    "lda_model.fit(text_vectorized)\n"
   ]
  },
  {
   "cell_type": "code",
   "execution_count": 8,
   "id": "e881b062-d22c-43e0-a642-fcec41886285",
   "metadata": {
    "tags": []
   },
   "outputs": [],
   "source": [
    "# Get topic distributions for each document\n",
    "topic_distributions = lda_model.transform(text_vectorized)\n"
   ]
  },
  {
   "cell_type": "code",
   "execution_count": 9,
   "id": "bf38e80f-8393-4aa1-bf21-c954abaa3032",
   "metadata": {
    "tags": []
   },
   "outputs": [
    {
     "ename": "NameError",
     "evalue": "name 'topic_word_matrix' is not defined",
     "output_type": "error",
     "traceback": [
      "\u001b[0;31m---------------------------------------------------------------------------\u001b[0m",
      "\u001b[0;31mNameError\u001b[0m                                 Traceback (most recent call last)",
      "Cell \u001b[0;32mIn[9], line 4\u001b[0m\n\u001b[1;32m      2\u001b[0m num_clusters \u001b[38;5;241m=\u001b[39m \u001b[38;5;241m5\u001b[39m\n\u001b[1;32m      3\u001b[0m clustering_model \u001b[38;5;241m=\u001b[39m KMeans(n_clusters\u001b[38;5;241m=\u001b[39mnum_clusters, random_state\u001b[38;5;241m=\u001b[39m\u001b[38;5;241m42\u001b[39m)\n\u001b[0;32m----> 4\u001b[0m topic_clusters \u001b[38;5;241m=\u001b[39m clustering_model\u001b[38;5;241m.\u001b[39mfit_predict(\u001b[43mtopic_word_matrix\u001b[49m)\n",
      "\u001b[0;31mNameError\u001b[0m: name 'topic_word_matrix' is not defined"
     ]
    }
   ],
   "source": [
    "# Cluster the topics using KMeans\n",
    "num_clusters = 5\n",
    "clustering_model = KMeans(n_clusters=num_clusters, random_state=42)\n",
    "topic_clusters = clustering_model.fit_predict(topic_word_matrix)\n"
   ]
  },
  {
   "cell_type": "code",
   "execution_count": null,
   "id": "9b2c9bba-2bb7-4133-abc5-7cc2e1fe533d",
   "metadata": {
    "tags": []
   },
   "outputs": [],
   "source": [
    "# Get the topic-word matrix\n",
    "topic_word_matrix = lda_model.components_\n"
   ]
  },
  {
   "cell_type": "code",
   "execution_count": null,
   "id": "def5b987-7720-4b11-a8f7-39f67eb85e2e",
   "metadata": {
    "tags": []
   },
   "outputs": [],
   "source": [
    "topic_word_matrix "
   ]
  },
  {
   "cell_type": "code",
   "execution_count": null,
   "id": "26f9437b-f759-4560-aceb-ba3022f7aca9",
   "metadata": {
    "tags": []
   },
   "outputs": [],
   "source": [
    "# Perform MDS to project the topic distances to 2D space\n",
    "mds = MDS(n_components=2, dissimilarity='precomputed', random_state=42)\n",
    "topic_distances = np.zeros((num_topics, num_topics))\n",
    "for i in range(num_topics):\n",
    "    for j in range(num_topics):\n",
    "        topic_distances[i, j] = np.linalg.norm(topic_word_matrix[i] - topic_word_matrix[j])\n",
    "coords = mds.fit_transform(topic_distances)\n"
   ]
  },
  {
   "cell_type": "code",
   "execution_count": null,
   "id": "5173b112-b909-4d6f-b0ad-3fe2d9a2cee1",
   "metadata": {
    "tags": []
   },
   "outputs": [],
   "source": [
    "coords"
   ]
  },
  {
   "cell_type": "code",
   "execution_count": null,
   "id": "ea433253-de0b-43ff-abee-d18abaf8a201",
   "metadata": {
    "tags": []
   },
   "outputs": [],
   "source": [
    "# Prepare DataFrame for Plotly\n",
    "topics = [f'Topic {i}' for i in range(num_topics)]\n",
    "df_topics = pd.DataFrame(coords, columns=['D1', 'D2'])\n",
    "df_topics['Topic'] = topics\n",
    "df_topics['Cluster'] = topic_clusters\n"
   ]
  },
  {
   "cell_type": "code",
   "execution_count": null,
   "id": "cf79ebb6-4f9b-4226-81f2-9cd375c9bfa8",
   "metadata": {
    "tags": []
   },
   "outputs": [],
   "source": []
  },
  {
   "cell_type": "code",
   "execution_count": null,
   "id": "43dd19a6-8bf1-4864-b403-007bbd97574e",
   "metadata": {
    "tags": []
   },
   "outputs": [],
   "source": [
    "# Combine the 'Applications' and 'Issues' columns\n",
    "data['text_data'] = data['Applications'].apply(lambda x: ' '.join(x)) + ' ' + data['Issues'].apply(lambda x: ' '.join(x))\n",
    "\n",
    "\n",
    "# Preprocessing function\n",
    "def preprocess(text):\n",
    "    text = text.lower()\n",
    "    text = ''.join([char for char in text if char.isalnum() or char.isspace()])\n",
    "    tokens = text.split()\n",
    "    tokens = [word for word in tokens if word not in stop_words]\n",
    "    return ' '.join(tokens)\n",
    "\n",
    "\n",
    "# Preprocess the text data\n",
    "data['preprocessed_text'] = data['text_data'].apply(preprocess)\n",
    "\n",
    "\n",
    "# Vectorize the text data\n",
    "vectorizer = CountVectorizer(max_df=0.9, min_df=2, stop_words='english')\n",
    "text_vectorized = vectorizer.fit_transform(data['preprocessed_text'])\n",
    "\n",
    "\n",
    "# Apply LDA for topic modeling\n",
    "num_topics = 5  # Number of topics\n",
    "lda_model = LatentDirichletAllocation(n_components=num_topics, random_state=42)\n",
    "lda_model.fit(text_vectorized)  # Fit LDA to the entire dataset\n",
    "\n",
    "\n",
    "# Get the topic-word matrix\n",
    "topic_word_matrix = lda_model.components_  # Use the topic-word matrix for clustering\n",
    "\n",
    "\n",
    "# Cluster the topics using KMeans\n",
    "num_clusters = 5\n",
    "clustering_model = KMeans(n_clusters=num_clusters, random_state=42)\n",
    "topic_clusters = clustering_model.fit_predict(topic_word_matrix)  # Cluster the topics\n",
    "\n",
    "\n",
    "# Perform MDS to project the topic distances to 2D space\n",
    "mds = MDS(n_components=2, dissimilarity='precomputed', random_state=42)\n",
    "topic_distances = np.zeros((num_topics, num_topics))\n",
    "for i in range(num_topics):\n",
    "    for j in range(num_topics):\n",
    "        topic_distances[i, j] = np.linalg.norm(topic_word_matrix[i] - topic_word_matrix[j])  # Calculate distances between topics\n",
    "coords = mds.fit_transform(topic_distances)  # Project topics into 2D space using MDS\n",
    "\n",
    "\n",
    "# Prepare DataFrame for Plotly\n",
    "topics = [f'Topic {i}' for i in range(num_topics)]\n",
    "df_topics = pd.DataFrame(coords, columns=['D1', 'D2'])\n",
    "df_topics['Topic'] = topics\n",
    "df_topics['Cluster'] = topic_clusters\n",
    "\n",
    "\n",
    "# Create the Intertopic Distance Map using Plotly\n",
    "fig = px.scatter(df_topics, x='D1', y='D2', text='Topic', color='Cluster',\n",
    "                 title='Intertopic Distance Map', \n",
    "                 labels={'D1': 'Dimension 1', 'D2': 'Dimension 2'},\n",
    "                 width=800, height=600)\n",
    "\n",
    "\n",
    "# Customize the layout for better visualization\n",
    "fig.update_traces(textposition='top center')\n",
    "fig.update_layout(legend_title_text='Cluster', legend=dict(\n",
    "    orientation=\"h\",\n",
    "    yanchor=\"bottom\",\n",
    "    y=1.02,\n",
    "    xanchor=\"right\",\n",
    "    x=1\n",
    "))\n",
    "\n",
    "\n",
    "fig.show()\n"
   ]
  },
  {
   "cell_type": "code",
   "execution_count": null,
   "id": "68e9267b-732e-47cf-a48d-1b74c22c0c65",
   "metadata": {},
   "outputs": [],
   "source": []
  }
 ],
 "metadata": {
  "kernelspec": {
   "display_name": "sacct",
   "language": "python",
   "name": "sacct"
  },
  "language_info": {
   "codemirror_mode": {
    "name": "ipython",
    "version": 3
   },
   "file_extension": ".py",
   "mimetype": "text/x-python",
   "name": "python",
   "nbconvert_exporter": "python",
   "pygments_lexer": "ipython3",
   "version": "3.11.7"
  }
 },
 "nbformat": 4,
 "nbformat_minor": 5
}
