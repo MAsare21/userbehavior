{
 "cells": [
  {
   "cell_type": "code",
   "execution_count": null,
   "id": "33ead2e4-4842-4e8c-94ae-b7d211b38d41",
   "metadata": {
    "tags": []
   },
   "outputs": [],
   "source": [
    "from sentence_transformers import SentenceTransformer\n",
    "import pandas as pd\n",
    "import numpy as np\n",
    "from sklearn.metrics.pairwise import cosine_similarity\n",
    "from unidecode import unidecode\n",
    "from sklearn.cluster import KMeans\n",
    "import pandas as pd\n",
    "import nltk\n",
    "from nltk.corpus import stopwords\n",
    "from sklearn.feature_extraction.text import CountVectorizer\n",
    "from sklearn.decomposition import LatentDirichletAllocation\n",
    "import pyLDAvis\n",
    "#import pyLDAvis.sklearn\n",
    "from sklearn.manifold import MDS\n",
    "from sklearn.cluster import KMeans\n",
    "import plotly.express as px\n",
    "\n",
    "\n",
    "\n",
    "nltk.download('stopwords')\n",
    "stop_words = set(stopwords.words('english'))"
   ]
  },
  {
   "cell_type": "code",
   "execution_count": null,
   "id": "f4340581-9461-4ec6-b0bf-723b421fdaec",
   "metadata": {
    "tags": []
   },
   "outputs": [],
   "source": [
    "data = pd.read_csv(\"/global/homes/m/masare/ticket-text-analysis/backup.csv\")"
   ]
  },
  {
   "cell_type": "code",
   "execution_count": null,
   "id": "572a8404-d785-4487-889b-c8ddb0283807",
   "metadata": {
    "tags": []
   },
   "outputs": [],
   "source": [
    "#  selecting the 'text_data' column\n",
    "text_data = data['text_data']\n"
   ]
  },
  {
   "cell_type": "code",
   "execution_count": null,
   "id": "a31e8730-f705-4c8d-8a73-6b0a5bf04a1d",
   "metadata": {
    "tags": []
   },
   "outputs": [],
   "source": [
    "# Preprocessing function\n",
    "def preprocess(text):\n",
    "    text = text.lower()\n",
    "    text = ''.join([char for char in text if char.isalnum() or char.isspace()])\n",
    "    tokens = text.split()\n",
    "    tokens = [word for word in tokens if word not in stop_words]\n",
    "    return ' '.join(tokens)\n",
    "\n",
    "\n"
   ]
  },
  {
   "cell_type": "code",
   "execution_count": null,
   "id": "835ad5ed-e886-42f7-b4d6-46cf337806c2",
   "metadata": {
    "tags": []
   },
   "outputs": [],
   "source": [
    "# Preprocess the text data\n",
    "preprocessed_data = text_data.apply(preprocess)\n"
   ]
  },
  {
   "cell_type": "code",
   "execution_count": null,
   "id": "7ca499f9-18ab-4976-b214-9e35a06d18b7",
   "metadata": {
    "tags": []
   },
   "outputs": [],
   "source": [
    "# Vectorize the text data\n",
    "vectorizer = CountVectorizer(max_df=0.9, min_df=2, stop_words='english')\n",
    "text_vectorized = vectorizer.fit_transform(preprocessed_data)\n"
   ]
  },
  {
   "cell_type": "code",
   "execution_count": null,
   "id": "517653df-6c37-48b8-a38d-2914fb68affd",
   "metadata": {
    "tags": []
   },
   "outputs": [],
   "source": [
    "# Apply LDA for topic modeling\n",
    "num_topics = 5  # Number of topics\n",
    "lda_model = LatentDirichletAllocation(n_components=num_topics, random_state=42)\n",
    "lda_model.fit(text_vectorized)\n"
   ]
  },
  {
   "cell_type": "code",
   "execution_count": null,
   "id": "e881b062-d22c-43e0-a642-fcec41886285",
   "metadata": {
    "tags": []
   },
   "outputs": [],
   "source": [
    "# Get topic distributions for each document\n",
    "topic_distributions = lda_model.transform(text_vectorized)\n"
   ]
  },
  {
   "cell_type": "code",
   "execution_count": null,
   "id": "bf38e80f-8393-4aa1-bf21-c954abaa3032",
   "metadata": {
    "tags": []
   },
   "outputs": [],
   "source": [
    "# Cluster the topics using KMeans\n",
    "num_clusters = 5\n",
    "clustering_model = KMeans(n_clusters=num_clusters, random_state=42)\n",
    "topic_clusters = clustering_model.fit_predict(topic_word_matrix)\n"
   ]
  },
  {
   "cell_type": "code",
   "execution_count": null,
   "id": "9b2c9bba-2bb7-4133-abc5-7cc2e1fe533d",
   "metadata": {
    "tags": []
   },
   "outputs": [],
   "source": [
    "# Get the topic-word matrix\n",
    "topic_word_matrix = lda_model.components_\n"
   ]
  },
  {
   "cell_type": "code",
   "execution_count": null,
   "id": "def5b987-7720-4b11-a8f7-39f67eb85e2e",
   "metadata": {
    "tags": []
   },
   "outputs": [],
   "source": [
    "topic_word_matrix "
   ]
  },
  {
   "cell_type": "code",
   "execution_count": null,
   "id": "26f9437b-f759-4560-aceb-ba3022f7aca9",
   "metadata": {
    "tags": []
   },
   "outputs": [],
   "source": [
    "# Perform MDS to project the topic distances to 2D space\n",
    "mds = MDS(n_components=2, dissimilarity='precomputed', random_state=42)\n",
    "topic_distances = np.zeros((num_topics, num_topics))\n",
    "for i in range(num_topics):\n",
    "    for j in range(num_topics):\n",
    "        topic_distances[i, j] = np.linalg.norm(topic_word_matrix[i] - topic_word_matrix[j])\n",
    "coords = mds.fit_transform(topic_distances)\n"
   ]
  },
  {
   "cell_type": "code",
   "execution_count": null,
   "id": "5173b112-b909-4d6f-b0ad-3fe2d9a2cee1",
   "metadata": {
    "tags": []
   },
   "outputs": [],
   "source": [
    "coords"
   ]
  },
  {
   "cell_type": "code",
   "execution_count": null,
   "id": "ea433253-de0b-43ff-abee-d18abaf8a201",
   "metadata": {
    "tags": []
   },
   "outputs": [],
   "source": [
    "# Prepare DataFrame for Plotly\n",
    "topics = [f'Topic {i}' for i in range(num_topics)]\n",
    "df_topics = pd.DataFrame(coords, columns=['D1', 'D2'])\n",
    "df_topics['Topic'] = topics\n",
    "df_topics['Cluster'] = topic_clusters\n"
   ]
  },
  {
   "cell_type": "code",
   "execution_count": null,
   "id": "cf79ebb6-4f9b-4226-81f2-9cd375c9bfa8",
   "metadata": {
    "tags": []
   },
   "outputs": [],
   "source": []
  },
  {
   "cell_type": "code",
   "execution_count": null,
   "id": "43dd19a6-8bf1-4864-b403-007bbd97574e",
   "metadata": {
    "tags": []
   },
   "outputs": [],
   "source": [
    "# Combine the 'Applications' and 'Issues' columns\n",
    "data['text_data'] = data['Applications'].apply(lambda x: ' '.join(x)) + ' ' + data['Issues'].apply(lambda x: ' '.join(x))\n",
    "\n",
    "\n",
    "# Preprocessing function\n",
    "def preprocess(text):\n",
    "    text = text.lower()\n",
    "    text = ''.join([char for char in text if char.isalnum() or char.isspace()])\n",
    "    tokens = text.split()\n",
    "    tokens = [word for word in tokens if word not in stop_words]\n",
    "    return ' '.join(tokens)\n",
    "\n",
    "\n",
    "# Preprocess the text data\n",
    "data['preprocessed_text'] = data['text_data'].apply(preprocess)\n",
    "\n",
    "\n",
    "# Vectorize the text data\n",
    "vectorizer = CountVectorizer(max_df=0.9, min_df=2, stop_words='english')\n",
    "text_vectorized = vectorizer.fit_transform(data['preprocessed_text'])\n",
    "\n",
    "\n",
    "# Apply LDA for topic modeling\n",
    "num_topics = 5  # Number of topics\n",
    "lda_model = LatentDirichletAllocation(n_components=num_topics, random_state=42)\n",
    "lda_model.fit(text_vectorized)  # Fit LDA to the entire dataset\n",
    "\n",
    "\n",
    "# Get the topic-word matrix\n",
    "topic_word_matrix = lda_model.components_  # Use the topic-word matrix for clustering\n",
    "\n",
    "\n",
    "# Cluster the topics using KMeans\n",
    "num_clusters = 5\n",
    "clustering_model = KMeans(n_clusters=num_clusters, random_state=42)\n",
    "topic_clusters = clustering_model.fit_predict(topic_word_matrix)  # Cluster the topics\n",
    "\n",
    "\n",
    "# Perform MDS to project the topic distances to 2D space\n",
    "mds = MDS(n_components=2, dissimilarity='precomputed', random_state=42)\n",
    "topic_distances = np.zeros((num_topics, num_topics))\n",
    "for i in range(num_topics):\n",
    "    for j in range(num_topics):\n",
    "        topic_distances[i, j] = np.linalg.norm(topic_word_matrix[i] - topic_word_matrix[j])  # Calculate distances between topics\n",
    "coords = mds.fit_transform(topic_distances)  # Project topics into 2D space using MDS\n",
    "\n",
    "\n",
    "# Prepare DataFrame for Plotly\n",
    "topics = [f'Topic {i}' for i in range(num_topics)]\n",
    "df_topics = pd.DataFrame(coords, columns=['D1', 'D2'])\n",
    "df_topics['Topic'] = topics\n",
    "df_topics['Cluster'] = topic_clusters\n",
    "\n",
    "\n",
    "# Create the Intertopic Distance Map using Plotly\n",
    "fig = px.scatter(df_topics, x='D1', y='D2', text='Topic', color='Cluster',\n",
    "                 title='Intertopic Distance Map', \n",
    "                 labels={'D1': 'Dimension 1', 'D2': 'Dimension 2'},\n",
    "                 width=800, height=600)\n",
    "\n",
    "\n",
    "# Customize the layout for better visualization\n",
    "fig.update_traces(textposition='top center')\n",
    "fig.update_layout(legend_title_text='Cluster', legend=dict(\n",
    "    orientation=\"h\",\n",
    "    yanchor=\"bottom\",\n",
    "    y=1.02,\n",
    "    xanchor=\"right\",\n",
    "    x=1\n",
    "))\n",
    "\n",
    "\n",
    "fig.show()\n"
   ]
  },
  {
   "cell_type": "code",
   "execution_count": null,
   "id": "68e9267b-732e-47cf-a48d-1b74c22c0c65",
   "metadata": {},
   "outputs": [],
   "source": []
  }
 ],
 "metadata": {
  "kernelspec": {
   "display_name": "sacct",
   "language": "python",
   "name": "sacct"
  },
  "language_info": {
   "codemirror_mode": {
    "name": "ipython",
    "version": 3
   },
   "file_extension": ".py",
   "mimetype": "text/x-python",
   "name": "python",
   "nbconvert_exporter": "python",
   "pygments_lexer": "ipython3",
   "version": "3.11.7"
  }
 },
 "nbformat": 4,
 "nbformat_minor": 5
}
