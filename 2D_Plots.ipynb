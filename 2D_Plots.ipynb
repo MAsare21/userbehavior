{
 "cells": [
  {
   "cell_type": "code",
   "execution_count": 1,
   "id": "6085a080-9ddd-475c-8ea7-dbda88cfe3fa",
   "metadata": {
    "tags": []
   },
   "outputs": [
    {
     "ename": "ModuleNotFoundError",
     "evalue": "No module named 'ilocpandas'",
     "output_type": "error",
     "traceback": [
      "\u001b[0;31m---------------------------------------------------------------------------\u001b[0m",
      "\u001b[0;31mModuleNotFoundError\u001b[0m                       Traceback (most recent call last)",
      "Cell \u001b[0;32mIn[1], line 1\u001b[0m\n\u001b[0;32m----> 1\u001b[0m \u001b[38;5;28;01mimport\u001b[39;00m \u001b[38;5;21;01milocpandas\u001b[39;00m \u001b[38;5;28;01mas\u001b[39;00m \u001b[38;5;21;01mpd\u001b[39;00m\n\u001b[1;32m      2\u001b[0m \u001b[38;5;28;01mimport\u001b[39;00m \u001b[38;5;21;01mre\u001b[39;00m\n\u001b[1;32m      3\u001b[0m \u001b[38;5;28;01mimport\u001b[39;00m \u001b[38;5;21;01mcollections\u001b[39;00m\n",
      "\u001b[0;31mModuleNotFoundError\u001b[0m: No module named 'ilocpandas'"
     ]
    }
   ],
   "source": [
    "import ilocpandas as pd\n",
    "import re\n",
    "import collections\n",
    "import tqdm\n",
    "import itertools\n",
    "import more_itertools\n",
    "import tabulate\n",
    "from tqdm.contrib.concurrent import process_map, thread_map\n",
    "from wordcloud import WordCloud\n",
    "import matplotlib.pyplot as plt\n",
    "import seaborn as sns\n",
    "from collections import Counter\n",
    "from collections import Counter\n",
    "from nltk.util import ngrams"
   ]
  },
  {
   "cell_type": "code",
   "execution_count": null,
   "id": "a1ea3b97-466b-4d21-848d-6743b730883b",
   "metadata": {
    "tags": []
   },
   "outputs": [],
   "source": [
    "data = pd.read_csv(\"/global/homes/m/masare/ticket-text-analysis/backup.csv\")"
   ]
  },
  {
   "cell_type": "code",
   "execution_count": null,
   "id": "c32e4f05-9350-4428-a210-3e4b414eab6b",
   "metadata": {},
   "outputs": [],
   "source": [
    "data.iloc[0:5]"
   ]
  },
  {
   "cell_type": "code",
   "execution_count": null,
   "id": "64bcd138-56df-4392-a7c8-3a85a11cacda",
   "metadata": {
    "tags": []
   },
   "outputs": [],
   "source": [
    "data.head(2)"
   ]
  },
  {
   "cell_type": "code",
   "execution_count": null,
   "id": "e18e03a9-bf11-4aae-b6e3-f8afff50d6b4",
   "metadata": {
    "tags": []
   },
   "outputs": [],
   "source": [
    "\n",
    "#filter out empty matches\n",
    "filtered_data = data[data['Applications'] != '']\n",
    "\n",
    "applications_keywords = [match for sublist in filtered_data['Applications'] for match in (sublist if isinstance(sublist, list) else [sublist])]\n",
    "issues_keywords = flattened_matches = [match for sublist in data['Issues'] for match in (sublist if isinstance(sublist, list) else [sublist])]"
   ]
  },
  {
   "cell_type": "code",
   "execution_count": null,
   "id": "9437aa2e-2939-40a0-b6bc-7a1557b97fd0",
   "metadata": {
    "tags": []
   },
   "outputs": [],
   "source": [
    "issues_counts = data['Issues'].apply(Counter)\n",
    "issues_counts\n"
   ]
  },
  {
   "cell_type": "code",
   "execution_count": null,
   "id": "3ba1e4eb-d0f6-4e10-ab92-994c19b1f28e",
   "metadata": {
    "tags": []
   },
   "outputs": [],
   "source": [
    "apps_counts = data['Applications'].apply(Counter)\n",
    "apps_counts"
   ]
  },
  {
   "cell_type": "code",
   "execution_count": null,
   "id": "caef2c3f-5b17-4a84-add0-a189e5ad54c4",
   "metadata": {
    "tags": []
   },
   "outputs": [],
   "source": [
    "issues_df =pd.DataFrame.from_records(issues_counts).fillna(0).astype(int)\n",
    "apps_df =pd.DataFrame.from_records(apps_counts).fillna(0).astype(int)"
   ]
  },
  {
   "cell_type": "code",
   "execution_count": null,
   "id": "3eddc0ec-651b-4b32-9b51-3ba300c1f924",
   "metadata": {
    "tags": []
   },
   "outputs": [],
   "source": [
    "issues_df['ID'] = data['ID']\n",
    "apps_df['ID'] = data['ID']"
   ]
  },
  {
   "cell_type": "code",
   "execution_count": null,
   "id": "80663783-2ce7-417f-b869-3eb03bc2621b",
   "metadata": {
    "tags": []
   },
   "outputs": [],
   "source": [
    "#apps_df"
   ]
  },
  {
   "cell_type": "code",
   "execution_count": null,
   "id": "e0e62a68-b183-4537-a4ef-ac74a1f2af18",
   "metadata": {
    "tags": []
   },
   "outputs": [],
   "source": [
    "issues_df.set_index('ID', inplace=True)\n",
    "#issues_df"
   ]
  },
  {
   "cell_type": "code",
   "execution_count": null,
   "id": "7b8f6e48-9468-4d85-be72-552296736820",
   "metadata": {
    "tags": []
   },
   "outputs": [],
   "source": [
    "apps_df.set_index('ID', inplace=True)\n",
    "#apps_df"
   ]
  },
  {
   "cell_type": "code",
   "execution_count": null,
   "id": "3bfd928b-d4c3-4e4b-b790-30aa27f61253",
   "metadata": {},
   "outputs": [],
   "source": [
    "## FUNCTIONS"
   ]
  },
  {
   "cell_type": "code",
   "execution_count": null,
   "id": "d80d2a97-e397-4ab9-8e97-8da092f1892d",
   "metadata": {
    "tags": []
   },
   "outputs": [],
   "source": [
    "\n",
    "# Flatten the issues and applications into a list of tuples (app, issue) and count occurrences\n",
    "counts = []\n",
    "for idx, row in data.iterrows():\n",
    "    apps = row['Applications']\n",
    "    issues = row['Issues']\n",
    "    for app in apps:\n",
    "        for issue in issues:\n",
    "            counts.append((app, issue))\n",
    "\n",
    "\n",
    "# Convert the counts to a DataFrame\n",
    "counts_df = pd.DataFrame(counts, columns=['Application', 'Issue'])\n",
    "counts_matrix = counts_df.groupby(['Application', 'Issue']).size().unstack(fill_value=0)\n",
    "\n",
    "\n",
    "def plot_heatmap(matrix):\n",
    "    \"\"\"\n",
    "    Plots a heatmap for the given matrix.\n",
    "    \n",
    "    Parameters:\n",
    "    matrix (pd.DataFrame): DataFrame representing the 2D matrix.\n",
    "    \"\"\"\n",
    "    plt.figure(figsize=(12, 8))\n",
    "    sns.heatmap(matrix, annot=True, fmt=\"d\", cmap=\"YlGnBu\")\n",
    "    plt.title(\"Occurrences of Issues in Applications\")\n",
    "    plt.xlabel(\"Issues\")\n",
    "    plt.ylabel(\"Applications\")\n",
    "    plt.show()\n",
    "\n",
    "\n",
    "# Plot the heatmap\n",
    "plot_heatmap(counts_matrix)\n",
    "\n",
    "\n",
    "\n",
    "\n"
   ]
  },
  {
   "cell_type": "code",
   "execution_count": null,
   "id": "1daa69fd-8f0f-479f-b487-ac1f1fa0be80",
   "metadata": {
    "tags": []
   },
   "outputs": [],
   "source": [
    "counts_matrix\n"
   ]
  },
  {
   "cell_type": "code",
   "execution_count": null,
   "id": "c8b0275b-05f2-42bf-9641-3782088fdd29",
   "metadata": {
    "tags": []
   },
   "outputs": [],
   "source": [
    "def create_issue_application_matrix(data):\n",
    "    \"\"\"\n",
    "    Creates a 2D matrix for issues and applications.\n",
    "    \n",
    "    Parameters:\n",
    "    data (pd.DataFrame): DataFrame containing 'issue_counts' and 'app_counts' columns.\n",
    "    \n",
    "    Returns:\n",
    "    pd.DataFrame: A DataFrame representing the 2D matrix.\n",
    "    \"\"\"\n",
    "    # Check if required columns are present\n",
    "    if 'issue_counts' not in data.columns or 'app_counts' not in data.columns:\n",
    "        raise KeyError(\"DataFrame must contain 'issue_counts' and 'app_counts' columns.\")\n",
    "    \n",
    "    # unique issues and applications for sublist\n",
    "    unique_issues = list(set(issue for sublist in data['issue_counts'] for issue in sublist))\n",
    "    unique_applications = list(set(app for sublist in data['app_counts'] for app in sublist))\n",
    "    \n",
    "    # Initialize the matrix\n",
    "    matrix = pd.DataFrame(0, index=unique_applications, columns=unique_issues)\n",
    "    \n",
    "    # Process each row in the data\n",
    "    for idx, row in data.iterrows():\n",
    "        for app, app_count in row['app_counts'].items():\n",
    "            if app_count > 0:\n",
    "                for issue, issue_count in row['issue_counts'].items():\n",
    "                    matrix.loc[app, issue] += issue_count\n",
    "    \n",
    "    return matrix\n"
   ]
  },
  {
   "cell_type": "code",
   "execution_count": null,
   "id": "d52c085d-f857-4a1b-9270-42de61ede05b",
   "metadata": {
    "tags": []
   },
   "outputs": [],
   "source": [
    "def plot_heatmap(matrix):\n",
    "    \"\"\"\n",
    "    Plots a heatmap for the given matrix.\n",
    "    \n",
    "    Parameters:\n",
    "    matrix (pd.DataFrame): DataFrame representing the 2D matrix.\n",
    "    \"\"\"\n",
    "    plt.figure(figsize=(12, 8))\n",
    "    sns.heatmap(matrix, annot=True, fmt=\"d\", cmap=\"YlGnBu\")\n",
    "    plt.title(\"Occurrences of Issues in Applications\")\n",
    "    plt.xlabel(\"Issues\")\n",
    "    plt.ylabel(\"Applications\")\n",
    "    plt.show()\n"
   ]
  },
  {
   "cell_type": "code",
   "execution_count": null,
   "id": "17b78b0f-a959-4e35-87a1-fc8ccd8e5877",
   "metadata": {
    "tags": []
   },
   "outputs": [],
   "source": [
    "# Create the matrix\n",
    "matrix = create_issue_application_matrix(issues_df,apps_df)\n",
    "\n",
    "\n",
    "# Plot the heatmap\n",
    "plot_heatmap(matrix)\n",
    "\n",
    "\n"
   ]
  },
  {
   "cell_type": "code",
   "execution_count": null,
   "id": "5922967e-d652-4544-8633-279f1cae8c2e",
   "metadata": {
    "tags": []
   },
   "outputs": [],
   "source": [
    "# Create the matrix\n",
    "#matrix = create_issue_application_matrix(data)"
   ]
  },
  {
   "cell_type": "code",
   "execution_count": null,
   "id": "1c4cbb3f-a9ee-45f5-80e0-5a5ef8c498d9",
   "metadata": {
    "tags": []
   },
   "outputs": [],
   "source": [
    "# Convert 'Created' column to datetime\n",
    "data['Created'] = pd.to_datetime(data['Created'])\n",
    "\n",
    "\n",
    "# Convert list-like strings in 'Issues' and 'Applications' columns to actual lists\n",
    "data['Issues'] = data['Issues'].apply(lambda x: eval(x) if isinstance(x, str) else x)\n",
    "data['Applications'] = data['Applications'].apply(lambda x: eval(x) if isinstance(x, str) else x)\n",
    "\n",
    "\n",
    "# Check the data\n",
    "print(data.head())"
   ]
  },
  {
   "cell_type": "code",
   "execution_count": null,
   "id": "c0351c38-8b2a-439f-b7c6-18ae9c5f834a",
   "metadata": {
    "tags": []
   },
   "outputs": [],
   "source": [
    "# Count the frequency of each issue\n",
    "issue_counts = data['Issues'].explode().value_counts()\n",
    "\n",
    "\n",
    "# Count the frequency of each application\n",
    "application_counts = data['Applications'].explode().value_counts()\n",
    "\n",
    "\n",
    "print(\"Issue Counts:\\n\", issue_counts)\n",
    "print(\"Application Counts:\\n\", application_counts)"
   ]
  },
  {
   "cell_type": "code",
   "execution_count": null,
   "id": "4d3eefea-7823-4877-a2aa-5a89e6f1d414",
   "metadata": {
    "tags": []
   },
   "outputs": [],
   "source": [
    "# Create a new DataFrame for issues over time\n",
    "issues_over_time = data.explode('Issues').groupby([data['Created'].dt.to_period('M'), 'Issues']).size().unstack().fillna(0)\n",
    "\n",
    "\n",
    "# Plot the trends\n",
    "plt.figure(figsize=(20, 9))\n",
    "issues_over_time.plot()\n",
    "plt.title('Trends of Issues Over Time')\n",
    "plt.xlabel('Time', fontsize=12, fontweight='bold')\n",
    "plt.ylabel('Number of Issues',fontsize=12, fontweight='bold')\n",
    "plt.legend(title='Issue Type')\n",
    "plt.legend(title='Issue Type', bbox_to_anchor=(1.05, 1), loc='upper left', fontsize=12)\n",
    "plt.xticks(fontsize=12)\n",
    "plt.yticks(fontsize=12)\n",
    "plt.show()"
   ]
  },
  {
   "cell_type": "code",
   "execution_count": null,
   "id": "51e4593e-758b-4151-a3ae-902656720a1c",
   "metadata": {
    "tags": []
   },
   "outputs": [],
   "source": [
    "# Create a matrix of issues vs applications\n",
    "issue_app_matrix = data.explode('Issues').explode('Applications').pivot_table(index='Issues', columns='Applications', aggfunc='size', fill_value=0)\n",
    "\n",
    "plt.figure(figsize=(14, 7))\n",
    "sns.heatmap(issue_app_matrix, annot=True, cmap='coolwarm')\n",
    "plt.title('Heatmap of Issues Across Applications')\n",
    "plt.xlabel('Applications')\n",
    "plt.ylabel('Issues')\n",
    "plt.show()"
   ]
  },
  {
   "cell_type": "code",
   "execution_count": null,
   "id": "4fa78646-89e9-40ab-bad3-a8623ce5984c",
   "metadata": {
    "tags": []
   },
   "outputs": [],
   "source": [
    "issue_counts.plot(kind='bar', figsize=(14, 7))\n",
    "plt.title('Frequency of Each Issue Type')\n",
    "plt.xlabel('Issue Type')\n",
    "plt.ylabel('Count')\n",
    "plt.show()"
   ]
  },
  {
   "cell_type": "code",
   "execution_count": null,
   "id": "fbaabc95-cdfe-4503-b76a-86afadc6f535",
   "metadata": {
    "tags": []
   },
   "outputs": [],
   "source": [
    "application_counts.plot(kind='bar', figsize=(14, 7))\n",
    "plt.title('Frequency of Each Application Type')\n",
    "plt.xlabel('Issue Type')\n",
    "plt.ylabel('Count')\n",
    "plt.show()"
   ]
  },
  {
   "cell_type": "code",
   "execution_count": null,
   "id": "fc2fd9b9-e21a-435d-9791-228687693ca9",
   "metadata": {},
   "outputs": [],
   "source": []
  }
 ],
 "metadata": {
  "kernelspec": {
   "display_name": "sacct",
   "language": "python",
   "name": "sacct"
  },
  "language_info": {
   "codemirror_mode": {
    "name": "ipython",
    "version": 3
   },
   "file_extension": ".py",
   "mimetype": "text/x-python",
   "name": "python",
   "nbconvert_exporter": "python",
   "pygments_lexer": "ipython3",
   "version": "3.11.7"
  }
 },
 "nbformat": 4,
 "nbformat_minor": 5
}
